{
  "nbformat": 4,
  "nbformat_minor": 0,
  "metadata": {
    "colab": {
      "provenance": []
    },
    "kernelspec": {
      "name": "python3",
      "display_name": "Python 3"
    },
    "language_info": {
      "name": "python"
    }
  },
  "cells": [
    {
      "cell_type": "markdown",
      "source": [
        "**Дипломная работа по теме:**\n",
        "\n",
        "Сравнение различных библиотек для визуализации данных: Matplotlib, Seaborn и Plotly."
      ],
      "metadata": {
        "id": "ojNFPvZIqECX"
      }
    },
    {
      "cell_type": "markdown",
      "source": [
        "**Оглавление:**\n",
        "1. Введение\n",
        "\n",
        "  1.1 Обоснование выбора темы\n",
        "\n",
        "  1.2 Определение цели и задач исследования\n",
        "\n",
        "2. Основные понятия и определения\n",
        "\n",
        "1.   Обзор библиотек Matplotlib, Seaborn и Plotly\n",
        "\n",
        "  3.1 Применение библиотек Matplotlib, Seaborn и Plotly в различных сферах деятельности\n",
        "\n",
        "  3.2 Обзор библиотеки Matplotlib\n",
        "\n",
        "  3.3 Обзор библиотеки Seaborn\n",
        "\n",
        "  3.4 Обзор библиотеки Plotly\n",
        "\n",
        "1.   Визуализация данных в Python: сравнение библиотек Matplotlib, Seaborn и Plotly\n",
        "\n",
        "  4.1 Установка библиотек\n",
        "\n",
        "  4.2 Библиотека Matplotlib\n",
        "\n",
        "  4.3 Библиотека Seaborn\n",
        "\n",
        "  4.4 Библиотека Plotly\n",
        "\n",
        "1.   Анализ и интерпретация результатов\n",
        "\n",
        "  5.1 Библиотека Matplotlib\n",
        "\n",
        "  5.2 Библиотека Seaborn\n",
        "\n",
        "  5.3 Библиотека Plotly\n",
        "\n",
        "  5.4 Сравнительная таблица характеристик\n",
        "  библиотек Matplotlib, Seaborn, Plotly\n",
        "\n",
        "2.   Заключение\n",
        "\n",
        "  6.1 Обзор выполненной работы\n",
        "\n",
        "  6.2 Дальнейшие планы на изучение возможностей библиотек Matplotlib, Seaborn и Plotly\n",
        ""
      ],
      "metadata": {
        "id": "lN3axkmlsfm4"
      }
    },
    {
      "cell_type": "markdown",
      "source": [
        "**1.Введение**\n",
        "\n",
        "**1.1 Обоснование выбора темы:**\n",
        "\n",
        "Тема «Сравнение различных библиотек для визуализации данных: Matplotlib, Seaborn и Plotly» актуальна, поскольку в современном мире данные становятся всё более важным ресурсом, а их анализ и визуализация играют ключевую роль в принятии решений.\n",
        "\n",
        "Выбор этой темы обусловлен следующими причинами:\n",
        "\n",
        "* **Популярность и востребованность.** Визуализация данных — это важный инструмент для анализа информации и принятия обоснованных решений. Существует множество библиотек для визуализации данных, каждая из которых имеет свои преимущества и недостатки. Сравнение различных библиотек позволяет выбрать наиболее подходящую для конкретной задачи.\n",
        "* **Разнообразие библиотек.** Matplotlib, Seaborn и Plotly — одни из самых популярных библиотек для визуализации данных в Python. Они предоставляют широкий спектр функций для создания графиков, диаграмм и других визуализаций. Однако у каждой библиотеки есть свои особенности и преимущества, которые могут быть полезны для разных задач.\n",
        "* **Практическая значимость.** Результаты сравнительного анализа могут быть полезны для разработчиков, аналитиков данных и исследователей, которые работают с большими объёмами информации. Они смогут выбрать наиболее подходящую библиотеку для своих задач и повысить эффективность своей работы.\n",
        "* **Научная новизна.** Несмотря на то что существуют исследования, посвящённые сравнению Matplotlib, Seaborn и Plotly, эта тема остаётся актуальной и интересной для изучения. В дипломной работе можно провести более глубокий и детальный анализ библиотек, выявить их сильные и слабые стороны, а также предложить рекомендации по выбору библиотеки в зависимости от задачи.\n",
        "\n",
        "Таким образом тема «Сравнение библиотек Matplotlib, Seaborn и Plotly для визуализации данных» актуальна и представляет интерес как с практической точки зрения, так и для личного развития. Это делает её подходящей для дипломной работы.\n",
        "\n",
        "**1.2 Определение цели и задач исследования:**\n",
        "\n",
        "Цель исследования: Создать набор визуализаций с использованием Matplotlib, Seaborn и Plotly, сравнить их функциональность и удобство использования.\n",
        "\n",
        "Задачи исследования:\n",
        "\n",
        "\n",
        "*   Изучить основные функции и возможности библиотек Matplotlib, Seaborn и Plotly.\n",
        "*   Создать набор визуализаций с использованием каждой из библиотек.\n",
        "\n",
        "*   Сравнить функциональность библиотек, включая поддержку различных типов графиков, возможность настройки стилей и параметров, интеграцию с другими инструментами и т.д.\n",
        "\n",
        "*   Оценить удобство использования каждой библиотеки, учитывая такие факторы, как простота установки, наличие документации и примеров, поддержка сообщества и т.п.\n",
        "\n",
        "\n",
        "*   Проанализировать результаты сравнения и сделать выводы о том, какая библиотека наиболее подходит для решения конкретных задач визуализации данных.\n",
        "\n",
        "\n",
        "\n",
        "\n",
        "\n",
        "\n",
        "\n",
        "\n"
      ],
      "metadata": {
        "id": "HpVfvj_JqhaY"
      }
    },
    {
      "cell_type": "markdown",
      "source": [
        "**2. Основные понятия и определения**\n",
        "\n",
        "\n",
        "1.   Библиотека визуализации (Visualization Library) —  набор инструментов и функций, предназначенных для создания графиков и диаграмм. В данном проекте рассматриваются Matplotlib, Seaborn и Plotly.\n",
        "2.   Визуализация данных (Data Visualization) — процесс представления данных в графической форме для облегчения анализа и интерпретации информации.\n",
        "\n",
        "3.   Matplotlib — библиотека для создания статических, а также интерактивных графиков. Она обеспечивает гибкость и контроль над визуализациями.\n",
        "\n",
        "1.   Plotly — библиотека для создания интерактивных графиков, позволяющая пользователям взаимодействовать с визуализациями, что особенно полезно в веб-приложениях.\n",
        "\n",
        "1.   Seaborn — библиотека, основанная на Matplotlib, которая упрощает создание статистических графиков и предлагает более эстетичные визуализации с готовыми стилями.\n",
        "\n",
        "1.   График — визуальное представление данных, которое показывает зависимость между двумя или более переменными. Графики могут быть разных типов, например, линейные, столбчатые, круговые и т. д.\n",
        "\n",
        "1.   Диаграмма — графическое изображение, которое используется для представления данных в наглядной форме. Диаграммы могут быть различных типов, например, столбчатые, круговые, точечные и т. п.\n",
        "\n",
        "1.   Интерактивность (Interactivity) — возможность пользователя взаимодействовать с графиком или диаграммой.\n",
        "\n",
        "1.   Эстетика графиков (Plot Aesthetics) —  оформление графиков, включая шрифты, размеры, цветовые схемы и оформление осей.\n",
        "2.   Сетчатая система (Grid System) — это система координат, которая помогает упорядочить расположение графиков и элементов на них.\n",
        "\n",
        "2.   Кастомизация (Customization) — процесс изменения стандартных параметров графиков для достижения желаемого внешнего вида и функциональности.\n",
        "\n",
        "2.   Точки данных (Data Points) — отдельные элементы данных, которые отображаются на графике.\n",
        "\n",
        "2.   Трендовая линия (Trend Line) — линия, отображающая общее направление данных на графике; используется для выявления тенденций.\n",
        "\n",
        "2.   Диапазон (Range) — разница между максимальным и минимальным значением данных на оси графика.\n",
        "\n",
        "2.   Форматирование (Formatting) — возможность настроить внешний вид графиков: выбрать цвет, шрифт и стиль линий. Это улучшает визуальное восприятие.\n",
        "\n",
        "2.  Экспорт (Export)— возможность сохранить графики в разных форматах (PNG, JPEG, PDF) для использования вне среды программирования.\n",
        "\n",
        "1.   Анимация (Animation)— возможность создать движущиеся графики, которые помогают увидеть изменения данных во времени.\n",
        "\n",
        "1.   Оси (Axes) —  линии, которые определяют границы графика. Обычно на графике две оси: ось X и ось Y. На осях отображаются данные.\n",
        "2.   Подписи (Labels) —  текстовые метки, которые описывают оси, заголовок графика и отдельные элементы графика.\n",
        "1.   Легенда (Legend) —  область графика, которая объясняет значение различных элементов графика. Например, цвета или маркеры могут использоваться для обозначения разных категорий данных.\n",
        "2.   Стили (Styles) —  наборы параметров, определяющих внешний вид графиков. Они включают в себя цвет, шрифт и толщину линий.\n",
        "1.    Данные (Data) —  информация, которую мы хотим визуализировать. Она может быть представлена в различных форматах, таких как списки, массивы или DataFrame (в библиотеке pandas).\n",
        "\n",
        "\n",
        "\n"
      ],
      "metadata": {
        "id": "2a0RwznQumyI"
      }
    },
    {
      "cell_type": "markdown",
      "source": [
        "**3. Обзор библиотек Matplotlib, Seaborn и Plotly**\n",
        "\n",
        "**3.1 Применение библиотек Matplotlib, Seaborn и Plotly в различных сферах деятельности**\n",
        "\n",
        "Библиотеки Matplotlib, Seaborn и Plotly являются мощными инструментами для визуализации данных в Python и находят широкое применение в различных областях. Рассмотрим примеры их использования.\n",
        "\n",
        "**Matplotlib**\n",
        "\n",
        "Научные исследования: Matplotlib часто используется в научных исследованиях для построения графиков и диаграмм. Например, ученые могут визуализировать результаты экспериментов, строя графики зависимости между переменными, такими как температура и скорость реакции. Это позволяет наглядно представить данные и выявить закономерности.\n",
        "\n",
        "Финансовый анализ: В финансах Matplotlib применяется для построения временных рядов, например, для анализа изменения цен акций во времени. Графики могут включать линии тренда, свечные графики и другие визуализации, которые помогают инвесторам принимать обоснованные решения.\n",
        "\n",
        "**Seaborn**\n",
        "\n",
        "Социальные науки: Seaborn, построенный на основе Matplotlib, предоставляет более высокоуровневый интерфейс для создания статистических графиков. В социальных науках исследователи могут использовать Seaborn для визуализации отношений между переменными, например, с помощью парных графиков или тепловых карт, чтобы изучить корреляции между различными факторами, влияющими на поведение людей.\n",
        "\n",
        "Медицинская статистика: В области медицины Seaborn может быть использован для визуализации данных клинических испытаний. Например, исследователи могут строить графики распределения результатов лечения, чтобы сравнить эффективность различных методов. Это помогает в оценке и интерпретации данных.\n",
        "\n",
        "**Plotly**\n",
        "\n",
        "Веб-приложения: Plotly идеально подходит для создания интерактивных графиков, которые можно интегрировать в веб-приложения. Например, в области маркетинга компании могут использовать Plotly для создания интерактивных дашбордов, отображающих ключевые показатели производительности (KPI) в реальном времени, что позволяет быстро реагировать на изменения в данных.\n",
        "\n",
        "Образование: В образовательных учреждениях Plotly может быть использован для создания интерактивных графиков и визуализаций, которые помогают студентам лучше понять сложные концепции. Например, в курсах по математике и статистике преподаватели могут создавать графики функций, которые студенты могут изменять, чтобы увидеть, как меняются результаты в зависимости от параметров.\n",
        "\n",
        "**3.2 Обзор библиотеки Matplotlib**\n",
        "\n",
        "Matplotlib — это популярная библиотека для создания графиков в Python, разработанная Джоном Хантером в 2002 году. Она предоставляет инструменты для визуализации данных и научных исследований.\n",
        "\n",
        "С помощью Matplotlib можно создавать различные типы графиков, включая линейные графики, гистограммы, круговые диаграммы и многие другие. Библиотека также поддерживает создание анимаций и интерактивных визуализаций, что делает её полезной для демонстрации сложных данных и процессов.\n",
        "\n",
        "Matplotlib широко используется в области науки о данных и научных вычислений. Она является основой для многих других библиотек визуализации данных на Python. Благодаря своей гибкости и мощности, Matplotlib стала одной из наиболее популярных библиотек для построения графиков в экосистеме Python.\n",
        "\n",
        "Официальная документация: [Matplotlib](https://matplotlib.org/)\n",
        "\n",
        "**3.3 Обзор библиотеки Seaborn**\n",
        "\n",
        "Seaborn — это библиотека визуализации данных на Python, основанная на Matplotlib. Она представляет собой инструмент более высокого уровня, разработанный специально для статистической визуализации и обычно используемый в сочетании с pandas для изучения и анализа данных. Майкл Уоском создал её в 2014 году.\n",
        "\n",
        "Создает более красивые и информативные графики по умолчанию.\n",
        "Идеально подходит для визуализации статистических данных.\n",
        "Автоматически улучшает стиль графиков, делая их более привлекательными.\n",
        "Легко работает с Pandas DataFrames.\n",
        "Поддерживает сложные графики, такие как pairplot, heatmap, boxplot и другие.\n",
        "\n",
        "\n",
        "Seaborn предлагает множество функций для создания различных видов графиков, таких как:\n",
        "\n",
        "\n",
        "\n",
        "*   гистограммы;\n",
        "*   круговые диаграммы;\n",
        "*   точечные диаграммы;\n",
        "*   коробчатые диаграммы и другие\n",
        "\n",
        "\n",
        "Эти инструменты помогают визуализировать данные и лучше понять их структуру. Они также могут помочь выявить закономерности и аномалии, которые могут быть не видны при простом просмотре данных.\n",
        "\n",
        "Таким образом, Seaborn является мощным инструментом для визуализации данных и может быть полезен при создании моделей машинного обучения. Он помогает выявлять выбросы и принимать обоснованные решения при работе с данными.\n",
        "\n",
        "Официальная документация: [Seaborn](https://seaborn.pydata.org/)\n",
        "\n",
        "\n",
        "**3.4 Обзор библиотеки Plotly**\n",
        "\n",
        "Plotly была создана Алексом Джонсоном, Крисом Пармером и Джеком Пармером в 2012 году. Это библиотека, которая обычно используется в веб-приложениях и информационных панелях и может быть интегрирована с другими языками и фреймворками, такими как R, MATLAB и Shiny.\n",
        "\n",
        "Особенности:\n",
        "\n",
        "\n",
        "*   Интерактивные и динамичные графики, хорошо подходящие для использования в веб-приложениях.\n",
        "*   Обширный набор графиков, включая 3D графики, карты, графики с областями, пузырьковые графики и специализированные визуализации.\n",
        "*   Поддерживает создание графиков, обновляющихся в реальном времени, что полезно для мониторинга данных.\n",
        "*   Возможность делиться графиками через веб-платформу Plotly или экспортировать их в различные форматы.\n",
        "\n",
        "Официальная документация: [Plotly](https://plotly.com/python/)\n",
        "\n"
      ],
      "metadata": {
        "id": "DBK90Inxzyrb"
      }
    },
    {
      "cell_type": "markdown",
      "source": [
        "**4. Визуализация данных в Python: сравнение библиотек Matplotlib, Seaborn и Plotly**\n",
        "\n",
        "**4.1 Установка библиотек**\n",
        "\n",
        "Для работы с данными библиотеками, их необходимо установить на компьютер, для этого скачайте библиотеки:\n",
        "\n",
        "Библиотека Matplotlib:\n",
        "```\n",
        "pip install matplotlib\n",
        "\n",
        "```\n",
        "Библиотека Seaborn:\n",
        "\n",
        "```\n",
        "pip install seaborn\n",
        "\n",
        "```\n",
        "Библиотека Plotly:\n",
        "```\n",
        "pip install plotly\n",
        "\n",
        "```\n",
        "В вашем проекте мы также планируем использовать библиотеки NumPy и Pandas.\n",
        "\n",
        "\n",
        "NumPy — это библиотека для работы с многомерными массивами и матрицами, а также для выполнения математических операций над ними. Она предоставляет мощные инструменты для работы с данными, включая функции для линейной алгебры, статистики и других математических вычислений.\n",
        "\n",
        "Pandas — это библиотека, которая предоставляет высокоуровневые структуры данных и инструменты для анализа данных. Она особенно полезна для работы с табличными данными (например, DataFrame), позволяя легко манипулировать, фильтровать и анализировать данные.\n",
        "```\n",
        "pip install numpy\n",
        "pip install pandas\n",
        "\n",
        "```"
      ],
      "metadata": {
        "id": "2C76vPJu_FsR"
      }
    },
    {
      "cell_type": "markdown",
      "source": [
        "**4.2 Библиотека Matplotlib**\n",
        "\n",
        "Рассмотрим несколько примерров визуализаций библиотеки Matplotlib.\n",
        "\n",
        "\n",
        "*Столбчатая диаграмма* — это график, представляющий категорию данных в виде прямоугольных столбцов, длина и высота которых пропорциональны значениям, которые они представляют. Столбчатые графики могут быть расположены горизонтально или вертикально. Столбчатая диаграмма позволяет сравнивать отдельные категории. Её можно создать с помощью метода bar().\n",
        "\n",
        "В приведённом ниже примере мы будем использовать набор данных о чаевых. База данных о чаевых содержит записи о чаевых, оставленных клиентами в ресторане за два с половиной месяца в начале 1990-х годов. Она включает 6 столбцов: общая сумма счёта, чаевые, пол, курящий, день, время."
      ],
      "metadata": {
        "id": "pumddSXAuDPB"
      }
    },
    {
      "cell_type": "code",
      "source": [
        "import matplotlib.pyplot as plt\n",
        "import pandas as pd\n",
        "\n",
        "# Добавляем датасет\n",
        "data = pd.read_csv('tips.csv')\n",
        "\n",
        "# Построение графика\n",
        "x = data['day']\n",
        "y = data['total_bill']\n",
        "\n",
        "plt.bar(x, y)\n",
        "\n",
        "# Добавляем заголовок графика\n",
        "plt.title(\"Чаевые в ресторане\")\n",
        "\n",
        "# Описание y-оси\n",
        "plt.ylabel('Сумма')\n",
        "\n",
        "# Описание x-оси\n",
        "plt.xlabel('День недели')\n",
        "\n",
        "# Отображение графика\n",
        "plt.show()\n"
      ],
      "metadata": {
        "colab": {
          "base_uri": "https://localhost:8080/",
          "height": 472
        },
        "id": "nxF73YXuFEZI",
        "outputId": "0163f7dd-ba56-4b06-d2b2-238608d5771c"
      },
      "execution_count": 1,
      "outputs": [
        {
          "output_type": "display_data",
          "data": {
            "text/plain": [
              "<Figure size 640x480 with 1 Axes>"
            ],
            "image/png": "[encoded data removed]"
          },
          "metadata": {}
        }
      ]
    },
    {
      "cell_type": "markdown",
      "source": [
        "*Гистограмма* в основном используется для представления данных, представленных в виде некоторых групп. Это тип столбчатой диаграммы, где ось X представляет интервалы ячеек, а ось Y даёт информацию о частоте. Функция hist() используется для вычисления и создания гистограммы."
      ],
      "metadata": {
        "id": "t88j1vkkF9U1"
      }
    },
    {
      "cell_type": "code",
      "source": [
        "import matplotlib.pyplot as plt\n",
        "import pandas as pd\n",
        "\n",
        "# Добавляем датасет\n",
        "data = pd.read_csv('tips.csv')\n",
        "\n",
        "# Построение графика\n",
        "x = data['total_bill']\n",
        "\n",
        "\n",
        "plt.hist(x)\n",
        "\n",
        "# Добавляем заголовок графика\n",
        "plt.title(\"Чаевые в ресторане\")\n",
        "\n",
        "# Описание y-оси\n",
        "plt.ylabel('Частота')\n",
        "\n",
        "# Описание x-оси\n",
        "plt.xlabel('Сумма')\n",
        "\n",
        "# Отображение графика\n",
        "plt.show()"
      ],
      "metadata": {
        "colab": {
          "base_uri": "https://localhost:8080/",
          "height": 472
        },
        "id": "zhFx8gG7HkZ-",
        "outputId": "89396e0a-c42c-4d8e-fe3c-438bf2283e4a"
      },
      "execution_count": 2,
      "outputs": [
        {
          "output_type": "display_data",
          "data": {
            "text/plain": [
              "<Figure size 640x480 with 1 Axes>"
            ],
            "image/png": "[encoded data removed]"
          },
          "metadata": {}
        }
      ]
    },
    {
      "cell_type": "markdown",
      "source": [
        "*Точечные диаграммы* используются для наблюдения за взаимосвязью между переменными. Метод scatter() в библиотеке matplotlib используется для построения точечной диаграммы."
      ],
      "metadata": {
        "id": "X3F5roC8HspZ"
      }
    },
    {
      "cell_type": "code",
      "source": [
        "import matplotlib.pyplot as plt\n",
        "import pandas as pd\n",
        "\n",
        "# Добавляем датасет\n",
        "data = pd.read_csv('tips.csv')\n",
        "\n",
        "# Построение графика\n",
        "x = data['day']\n",
        "y = data['total_bill']\n",
        "\n",
        "plt.scatter(x, y)\n",
        "\n",
        "# Добавляем заголовок графика\n",
        "plt.title(\"Чаевые в ресторане\")\n",
        "\n",
        "# Описание y-оси\n",
        "plt.ylabel('Сумма')\n",
        "\n",
        "# Описание x-оси\n",
        "plt.xlabel('День')\n",
        "\n",
        "# Отображение графика\n",
        "plt.show()"
      ],
      "metadata": {
        "colab": {
          "base_uri": "https://localhost:8080/",
          "height": 472
        },
        "id": "wlAmLlRDHvYX",
        "outputId": "00204323-5a77-411f-bc02-61af2bf819a1"
      },
      "execution_count": 3,
      "outputs": [
        {
          "output_type": "display_data",
          "data": {
            "text/plain": [
              "<Figure size 640x480 with 1 Axes>"
            ],
            "image/png": "[encoded data removed]"
          },
          "metadata": {}
        }
      ]
    },
    {
      "cell_type": "markdown",
      "source": [
        "**4.3 Библиотека Seaborn**\n",
        "\n",
        "Данная библиотека визуализации данных на Python упрощает процесс создания сложных визуализаций. Она специально разработана для визуализации статистических данных, что упрощает понимание распределения данных и взаимосвязей между переменными. Seaborn тесно интегрируется со структурами данных Pandas, обеспечивая удобство работы с данными и их визуализацию.\n",
        "\n",
        "*Создание базовых визуализаций с помощью Seaborn.*\n",
        "\n",
        "Прежде чем начать, вкратце рассмотрим двумерные и одномерные данные:\n",
        "\n",
        "\n",
        "\n",
        "*   Двумерные данные: Этот тип данных включает в себя две разные переменные. Анализ этого типа данных связан с причинами и взаимосвязями, и анализ проводится для выявления взаимосвязи между двумя переменными.\n",
        "*   Одномерные данные: Этот тип данных состоит из только одной переменной. Таким образом, анализ одномерных данных является простейшей формой анализа, поскольку информация касается только одной изменяющейся величины. Он не рассматривает причины или взаимосвязи, и основная цель анализа — описать данные и найти существующие в них закономерности.\n",
        "\n",
        "\n",
        "\n",
        "Seaborn предлагает множество типов графиков для визуализации различных аспектов данных. Seaborn помогает визуализировать статистические взаимосвязи, понять, как переменные в наборе данных связаны друг с другом и как эта взаимосвязь зависит от других переменных. С помощью бибилтотеки мы можем выполнять статистический анализ, котрый помогает визуализировать тенденции и выявлять различные закономерности в наборе данных."
      ],
      "metadata": {
        "id": "iQVy25GnJeSQ"
      }
    },
    {
      "cell_type": "markdown",
      "source": [
        "Библиотека Seaborn, предназначенная для визуализации данных в Python, предоставляет набор встроенных наборов данных, которые идеально подходят для практики и демонстрации различных концепций в области науки о данных. Эти наборы данных разработаны таким образом, чтобы быть понятными и удобными в использовании, что делает их подходящими как для начинающих, так и для опытных специалистов по анализу данных.\n",
        "\n",
        "Далее мы будем работать с  набором данных Diamonds.\n",
        "Набор данных Diamonds содержит информацию о бриллиантах, включая их характеристики и цены. Он включает такие характеристики, как вес в каратах, огранка, цвет, чистота, глубина, цена, длина, ширина и глубина в мм."
      ],
      "metadata": {
        "id": "O3coGoSKKXGf"
      }
    },
    {
      "cell_type": "markdown",
      "source": [
        "Код ниже использует библиотеку Seaborn для загрузки набора данных «diamonds».\n",
        "\n",
        "Импорт библиотеки: первая строка кода импортирует библиотеку Seaborn под коротким именем sns. Это позволяет использовать функции и методы этой библиотеки в коде.\n",
        "\n",
        "Загрузка набора данных: вторая строка загружает набор данных «diamonds» из библиотеки Seaborn. Этот набор данных содержит информацию о бриллиантах, включая их характеристики и цену.\n",
        "\n",
        "Просмотр первых строк набора данных: последняя строка выводит первые строки набора данных с помощью метода head(). Это позволяет увидеть структуру и содержимое набора данных."
      ],
      "metadata": {
        "id": "H3F_9roDg725"
      }
    },
    {
      "cell_type": "code",
      "source": [
        "# Пример данных из таблицы\n",
        "# Импорт библиотеки\n",
        "import seaborn as sns\n",
        "# Загрузка набора данных\n",
        "diamonds = sns.load_dataset(\"diamonds\")\n",
        "# Просмотр первых строк\n",
        "print(diamonds.head())\n"
      ],
      "metadata": {
        "colab": {
          "base_uri": "https://localhost:8080/"
        },
        "id": "VQ6HNFo_NBn5",
        "outputId": "b28e6c1c-e562-4fea-f207-1e43eb04b3b8"
      },
      "execution_count": 6,
      "outputs": [
        {
          "output_type": "stream",
          "name": "stdout",
          "text": [
            "   carat      cut color clarity  depth  table  price     x     y     z\n",
            "0   0.23    Ideal     E     SI2   61.5   55.0    326  3.95  3.98  2.43\n",
            "1   0.21  Premium     E     SI1   59.8   61.0    326  3.89  3.84  2.31\n",
            "2   0.23     Good     E     VS1   56.9   65.0    327  4.05  4.07  2.31\n",
            "3   0.29  Premium     I     VS2   62.4   58.0    334  4.20  4.23  2.63\n",
            "4   0.31     Good     J     SI2   63.3   58.0    335  4.34  4.35  2.75\n"
          ]
        }
      ]
    },
    {
      "cell_type": "markdown",
      "source": [
        "Исппользуем готовую библиотеку Seaborn для визуализации данных о бриллиантах, которые были предварительно загружены в набор данных «diamonds».\n",
        "\n",
        "Функция sns.load_dataset(\"diamonds\") загружает набор данных, который уже был подготовлен и доступен в библиотеке Seaborn.\n",
        "\n",
        "Затем используется функция sns.displot(diamonds, x=\"carat\"), которая строит диаграмму распределения значений веса (carat) бриллиантов. Эта функция позволяет визуализировать распределение значений в наборе данных и получить представление о том, как часто встречаются бриллианты с определённым весом."
      ],
      "metadata": {
        "id": "k0IR3avvSOOV"
      }
    },
    {
      "cell_type": "code",
      "source": [
        "import seaborn as sns\n",
        "\n",
        "# Импорт данных\n",
        "diamonds = sns.load_dataset(\"diamonds\")\n",
        "\n",
        "# Строим график распределения значений массы в каратах\n",
        "sns.displot(diamonds, x=\"carat\")\n"
      ],
      "metadata": {
        "colab": {
          "base_uri": "https://localhost:8080/",
          "height": 518
        },
        "id": "deX3AVV6SLDj",
        "outputId": "153cc062-fccc-4605-eefc-16fc3f955e45"
      },
      "execution_count": 7,
      "outputs": [
        {
          "output_type": "execute_result",
          "data": {
            "text/plain": [
              "<seaborn.axisgrid.FacetGrid at 0x7dff8b371b10>"
            ]
          },
          "metadata": {},
          "execution_count": 7
        },
        {
          "output_type": "display_data",
          "data": {
            "text/plain": [
              "<Figure size 500x500 with 1 Axes>"
            ],
            "image/png": "[encoded data removed]"
          },
          "metadata": {}
        }
      ]
    },
    {
      "cell_type": "markdown",
      "source": [
        "Bar Plot, или столбчатая диаграмма, — один из самых популярных видов диаграмм. С помощью библиотеки seaborn можно построить и этот тип графиков. Для этого используется функция barplot."
      ],
      "metadata": {
        "id": "LQQYfMufS3t4"
      }
    },
    {
      "cell_type": "markdown",
      "source": [
        "Здесь создается столбчатая диаграмма (bar plot), где по оси X откладывается вес бриллианта (carat), а по оси Y — его цена (price).\n",
        "\n",
        "Столбчатая диаграмма: Она показывает среднюю цену бриллиантов для каждого значения веса. Каждый столбец представляет собой среднюю цену для бриллиантов с определенным весом, что позволяет визуально оценить, как цена меняется в зависимости от веса.\n",
        "Описание графика\n",
        "Ось X: Значения \"carat\" (вес бриллианта).\n",
        "Ось Y: Значения \"price\" (цена бриллианта).\n",
        "Средняя цена: Столбцы показывают среднюю цену для каждого значения веса, что позволяет увидеть тренд: как цена бриллиантов увеличивается с увеличением их веса.\n",
        "Этот график помогает визуализировать зависимость между весом бриллианта и его ценой, выявляя закономерности и тренды в данных."
      ],
      "metadata": {
        "id": "uqYTWOf6Tl3_"
      }
    },
    {
      "cell_type": "code",
      "source": [
        "import seaborn as sns\n",
        "\n",
        "# Импорт данных\n",
        "diamonds = sns.load_dataset(\"diamonds\")\n",
        "\n",
        "# Строим график\n",
        "sns.barplot(data=diamonds, x=\"carat\", y=\"price\")\n"
      ],
      "metadata": {
        "colab": {
          "base_uri": "https://localhost:8080/",
          "height": 475
        },
        "id": "indODZDOTEuS",
        "outputId": "d29e57e3-f884-4e6e-f0b2-87e530abbb29"
      },
      "execution_count": 10,
      "outputs": [
        {
          "output_type": "execute_result",
          "data": {
            "text/plain": [
              "<Axes: xlabel='carat', ylabel='price'>"
            ]
          },
          "metadata": {},
          "execution_count": 10
        },
        {
          "output_type": "display_data",
          "data": {
            "text/plain": [
              "<Figure size 640x480 with 1 Axes>"
            ],
            "image/png": "[encoded data removed]"
          },
          "metadata": {}
        }
      ]
    },
    {
      "cell_type": "markdown",
      "source": [
        "Рассмотрим также такой популярный инструмент библиотеки Seaborn как Heatmap или тепловая карта. Тепловая карта определяется как графическое представление данных с использованием цветов для визуализации значения матрицы. При этом для представления более распространенных значений или более высокой активности используются в основном более яркие цвета, а для представления менее распространенных или более активных значений предпочтительны более темные цвета. Тепловая карта также определяется именем матрицы затенения. Тепловые карты в Seaborn можно строить с помощью функции seaborn.heatmap()."
      ],
      "metadata": {
        "id": "LE7v0PUX7fq8"
      }
    },
    {
      "cell_type": "code",
      "source": [
        "import numpy as np\n",
        "import seaborn as sns\n",
        "import matplotlib.pyplot as plt\n",
        "\n",
        "# генерация двумерной матрицы случайных чисел размером 10x10\n",
        "# от 1 до 100\n",
        "data = np.random.randint(low=1,\n",
        "                         high=100,\n",
        "                         size=(10, 10))\n",
        "print(\"Данные, которые будут нанесены на график:\\n\")\n",
        "print(data)\n",
        "\n",
        "# построение тепловой карты\n",
        "hm = sns.heatmap(data=data)\n",
        "\n",
        "# отображение построенной тепловой карты\n",
        "plt.show()\n",
        "\n"
      ],
      "metadata": {
        "colab": {
          "base_uri": "https://localhost:8080/",
          "height": 638
        },
        "id": "_z7t9yV263Fe",
        "outputId": "5700589e-eed7-4807-b108-7736035d4bf4"
      },
      "execution_count": 8,
      "outputs": [
        {
          "output_type": "stream",
          "name": "stdout",
          "text": [
            "Данные, которые будут нанесены на график:\n",
            "\n",
            "[[35 73 72 28 62 15 95 53 56 32]\n",
            " [28 19 39 40 56 37 43  2 41 54]\n",
            " [33 77 11 23 62 56 50 73 55 74]\n",
            " [87  4 39 98 60 77 53 17 58 11]\n",
            " [71 75 90 65 88 98 82 10 10 84]\n",
            " [95  5 43 14 72 47 55 46 42 67]\n",
            " [22  8 29 23 25 98 98 50 38 46]\n",
            " [86 40 41 23 86  7 47 20 43 91]\n",
            " [ 6 53 11  7  3 59 57 14 48 47]\n",
            " [27 53 49 62 34 14 63 93  7 92]]\n"
          ]
        },
        {
          "output_type": "display_data",
          "data": {
            "text/plain": [
              "<Figure size 640x480 with 2 Axes>"
            ],
            "image/png": "[encoded data removed]"
          },
          "metadata": {}
        }
      ]
    },
    {
      "cell_type": "markdown",
      "source": [
        "Если установить значение vmin равным 30, а значение vmax равным 70, то будут отображаться только ячейки со значениями от 30 до 70. Это называется привязкой цветовой карты."
      ],
      "metadata": {
        "id": "mAvYUFOw8SzX"
      }
    },
    {
      "cell_type": "code",
      "source": [
        "import numpy as np\n",
        "import seaborn as sns\n",
        "import matplotlib.pyplot as plt\n",
        "\n",
        "# генерация двумерной матрицы случайных чисел размером 10x10\n",
        "# от 1 до 100\n",
        "data = np.random.randint(low=1,\n",
        "                         high=100,\n",
        "                         size=(10, 10))\n",
        "\n",
        "# установка значений параметров\n",
        "vmin = 30\n",
        "vmax = 70\n",
        "\n",
        "# построение тепловой карты\n",
        "hm = sns.heatmap(data=data,\n",
        "                vmin=vmin,\n",
        "                vmax=vmax)\n",
        "\n",
        "# отображение построенной тепловой карты\n",
        "plt.show()\n",
        "\n"
      ],
      "metadata": {
        "colab": {
          "base_uri": "https://localhost:8080/",
          "height": 435
        },
        "id": "jSssqCft8UZb",
        "outputId": "a9584420-3a6e-4301-e3d6-619b86f1cdd5"
      },
      "execution_count": 10,
      "outputs": [
        {
          "output_type": "display_data",
          "data": {
            "text/plain": [
              "<Figure size 640x480 with 2 Axes>"
            ],
            "image/png": "[encoded data removed]"
          },
          "metadata": {}
        }
      ]
    },
    {
      "cell_type": "markdown",
      "source": [
        "**4.4 Библиотека Plotly**\n",
        "\n",
        "Plotly — это модуль Python с открытым исходным кодом, который широко используется для визуализации данных, предлагая различные типы графиков, такие как линейные диаграммы, точечные диаграммы, гистограммы и многое другое.\n",
        "\n",
        "Plotly использует JavaScript, что позволяет визуализировать данные с помощью Plotly в интерактивном режиме, позволяя пользователям увеличивать масштаб, наводить курсор для просмотра данных и многое другое. Визуализация графиков с помощью Plotly также предоставляет несколько преимуществ, таких как:\n",
        "\n",
        "\n",
        "*   Возможности инструмента наведения курсора для обнаружения выбросов или аномалий в обширных наборах данных.\n",
        "*   Визуализация данных с помощью Plotly выглядит привлекательно, что делает ее доступной для широкой аудитории, и предлагает бесконечное количество вариантов настройки, что делает графики более информативными и понятными.\n",
        "\n"
      ],
      "metadata": {
        "id": "OsReVz9hWL1e"
      }
    },
    {
      "cell_type": "markdown",
      "source": [
        "В Plotly есть три основных модуля\n",
        "\n",
        "*   plotly. выступает в качестве интерфейса между локальным компьютером и Plotly. Он содержит функции, которые требуют ответа от сервера Plotly.\n",
        "*   Модуль plotly.graph_objects содержит объекты (фигура, макет, данные и определение графиков, таких как точечная диаграмма, линейная диаграмма), которые отвечают за создание графиков. Фигура может быть представлена в виде словаря или экземпляров plotly.graph_objects. Фигуры представлены в виде деревьев, где корневой узел имеет три атрибута верхнего уровня — данные, макет, и фреймы, а именованные узлы называются ‘атрибуты’.\n",
        "*   plotly.tools модуль содержит различные инструменты в виде функций, которые могут улучшить работу с Plotly.\n",
        "\n",
        "Модуль plotly.express может создать всю фигуру сразу. Он использует объекты graph_objects внутри и возвращает объекты graph_objects. - экземпляр фигуры.\n",
        "\n",
        "\n",
        "\n",
        "\n",
        "\n",
        "\n",
        "\n",
        "\n"
      ],
      "metadata": {
        "id": "WWHsXHwraL9A"
      }
    },
    {
      "cell_type": "markdown",
      "source": [
        "Этот код создаёт столбчатую диаграмму на основе данных о чаевых, которые включены в библиотеку plotly.express.\n",
        "\n",
        "Импортируется библиотека plotly.express под названием px. Затем загружаются данные с помощью функции px.data.tips(), которая предоставляет пример набора данных для визуализации.\n",
        "\n",
        "Далее создаётся столбчатая диаграмма с использованием функции px.bar(). В качестве аргументов функции передаются: df — выбранный набор данных, x='day' — название оси X (в данном случае это дни), y=\"total_bill\" — название оси Y (общая сумма счёта).\n",
        "\n",
        "Результат отображается с помощью fig.show()."
      ],
      "metadata": {
        "id": "CyCTQXBKbD-W"
      }
    },
    {
      "cell_type": "code",
      "source": [
        "import plotly.express as px\n",
        "\n",
        "# Загрузка данных\n",
        "df = px.data.tips()\n",
        "\n",
        "# Создаем таблицу\n",
        "fig = px.bar(df, x='day', y=\"total_bill\")\n",
        "\n",
        "# Отображение графика\n",
        "fig.show()"
      ],
      "metadata": {
        "colab": {
          "base_uri": "https://localhost:8080/",
          "height": 542
        },
        "id": "sSnnwOXbdPJE",
        "outputId": "ccf1e4da-5687-4af0-90f5-1dd97a67f88c"
      },
      "execution_count": 21,
      "outputs": [
        {
          "output_type": "display_data",
          "data": {
            "text/html": [
              "<html>\n",
              "<head><meta charset=\"utf-8\" /></head>\n",
              "<body>\n",
              "    <div>            <script src=\"https://cdnjs.cloudflare.com/ajax/libs/mathjax/2.7.5/MathJax.js?config=TeX-AMS-MML_SVG\"></script><script type=\"text/javascript\">if (window.MathJax && window.MathJax.Hub && window.MathJax.Hub.Config) {window.MathJax.Hub.Config({SVG: {font: \"STIX-Web\"}});}</script>                <script type=\"text/javascript\">window.PlotlyConfig = {MathJaxConfig: 'local'};</script>\n",
              "        <script charset=\"utf-8\" src=\"https://cdn.plot.ly/plotly-2.35.2.min.js\"></script>                <div id=\"e90c1756-8ea6-4f27-afc0-d582e8feab0b\" class=\"plotly-graph-div\" style=\"height:525px; width:100%;\"></div>            <script type=\"text/javascript\">                                    window.PLOTLYENV=window.PLOTLYENV || {};                                    if (document.getElementById(\"e90c1756-8ea6-4f27-afc0-d582e8feab0b\")) {                    Plotly.newPlot(                        \"e90c1756-8ea6-4f27-afc0-d582e8feab0b\",                        [{\"alignmentgroup\":\"True\",\"hovertemplate\":\"day=%{x}\\u003cbr\\u003etotal_bill=%{y}\\u003cextra\\u003e\\u003c\\u002fextra\\u003e\",\"legendgroup\":\"\",\"marker\":{\"color\":\"#636efa\",\"pattern\":{\"shape\":\"\"}},\"name\":\"\",\"offsetgroup\":\"\",\"orientation\":\"v\",\"showlegend\":false,\"textposition\":\"auto\",\"x\":[\"Sun\",\"Sun\",\"Sun\",\"Sun\",\"Sun\",\"Sun\",\"Sun\",\"Sun\",\"Sun\",\"Sun\",\"Sun\",\"Sun\",\"Sun\",\"Sun\",\"Sun\",\"Sun\",\"Sun\",\"Sun\",\"Sun\",\"Sat\",\"Sat\",\"Sat\",\"Sat\",\"Sat\",\"Sat\",\"Sat\",\"Sat\",\"Sat\",\"Sat\",\"Sat\",\"Sat\",\"Sat\",\"Sat\",\"Sat\",\"Sat\",\"Sat\",\"Sat\",\"Sat\",\"Sat\",\"Sat\",\"Sat\",\"Sun\",\"Sun\",\"Sun\",\"Sun\",\"Sun\",\"Sun\",\"Sun\",\"Sun\",\"Sun\",\"Sun\",\"Sun\",\"Sun\",\"Sun\",\"Sun\",\"Sun\",\"Sat\",\"Sat\",\"Sat\",\"Sat\",\"Sat\",\"Sat\",\"Sat\",\"Sat\",\"Sat\",\"Sat\",\"Sat\",\"Sat\",\"Sat\",\"Sat\",\"Sat\",\"Sat\",\"Sat\",\"Sat\",\"Sat\",\"Sat\",\"Sat\",\"Thur\",\"Thur\",\"Thur\",\"Thur\",\"Thur\",\"Thur\",\"Thur\",\"Thur\",\"Thur\",\"Thur\",\"Thur\",\"Thur\",\"Thur\",\"Fri\",\"Fri\",\"Fri\",\"Fri\",\"Fri\",\"Fri\",\"Fri\",\"Fri\",\"Fri\",\"Fri\",\"Fri\",\"Fri\",\"Sat\",\"Sat\",\"Sat\",\"Sat\",\"Sat\",\"Sat\",\"Sat\",\"Sat\",\"Sat\",\"Sat\",\"Sun\",\"Sun\",\"Sun\",\"Sun\",\"Sun\",\"Thur\",\"Thur\",\"Thur\",\"Thur\",\"Thur\",\"Thur\",\"Thur\",\"Thur\",\"Thur\",\"Thur\",\"Thur\",\"Thur\",\"Thur\",\"Thur\",\"Thur\",\"Thur\",\"Thur\",\"Thur\",\"Thur\",\"Thur\",\"Thur\",\"Thur\",\"Thur\",\"Thur\",\"Thur\",\"Thur\",\"Thur\",\"Thur\",\"Thur\",\"Thur\",\"Thur\",\"Thur\",\"Thur\",\"Sun\",\"Sun\",\"Sun\",\"Sun\",\"Sun\",\"Sun\",\"Sun\",\"Sun\",\"Sun\",\"Sun\",\"Sun\",\"Sun\",\"Sun\",\"Sun\",\"Sun\",\"Sun\",\"Sun\",\"Sun\",\"Sat\",\"Sat\",\"Sat\",\"Sat\",\"Sun\",\"Sun\",\"Sun\",\"Sun\",\"Sun\",\"Sun\",\"Sun\",\"Sun\",\"Sun\",\"Sun\",\"Sun\",\"Sun\",\"Sun\",\"Sun\",\"Sun\",\"Sun\",\"Sun\",\"Sun\",\"Sun\",\"Thur\",\"Thur\",\"Thur\",\"Thur\",\"Thur\",\"Thur\",\"Thur\",\"Thur\",\"Thur\",\"Thur\",\"Thur\",\"Thur\",\"Thur\",\"Thur\",\"Thur\",\"Sat\",\"Sat\",\"Sat\",\"Sat\",\"Sat\",\"Sat\",\"Sat\",\"Sat\",\"Sat\",\"Sat\",\"Sat\",\"Sat\",\"Sat\",\"Sat\",\"Fri\",\"Fri\",\"Fri\",\"Fri\",\"Fri\",\"Fri\",\"Fri\",\"Sat\",\"Sat\",\"Sat\",\"Sat\",\"Sat\",\"Sat\",\"Sat\",\"Sat\",\"Sat\",\"Sat\",\"Sat\",\"Sat\",\"Sat\",\"Sat\",\"Sat\",\"Sat\",\"Thur\"],\"xaxis\":\"x\",\"y\":[16.99,10.34,21.01,23.68,24.59,25.29,8.77,26.88,15.04,14.78,10.27,35.26,15.42,18.43,14.83,21.58,10.33,16.29,16.97,20.65,17.92,20.29,15.77,39.42,19.82,17.81,13.37,12.69,21.7,19.65,9.55,18.35,15.06,20.69,17.78,24.06,16.31,16.93,18.69,31.27,16.04,17.46,13.94,9.68,30.4,18.29,22.23,32.4,28.55,18.04,12.54,10.29,34.81,9.94,25.56,19.49,38.01,26.41,11.24,48.27,20.29,13.81,11.02,18.29,17.59,20.08,16.45,3.07,20.23,15.01,12.02,17.07,26.86,25.28,14.73,10.51,17.92,27.2,22.76,17.29,19.44,16.66,10.07,32.68,15.98,34.83,13.03,18.28,24.71,21.16,28.97,22.49,5.75,16.32,22.75,40.17,27.28,12.03,21.01,12.46,11.35,15.38,44.3,22.42,20.92,15.36,20.49,25.21,18.24,14.31,14.0,7.25,38.07,23.95,25.71,17.31,29.93,10.65,12.43,24.08,11.69,13.42,14.26,15.95,12.48,29.8,8.52,14.52,11.38,22.82,19.08,20.27,11.17,12.26,18.26,8.51,10.33,14.15,16.0,13.16,17.47,34.3,41.19,27.05,16.43,8.35,18.64,11.87,9.78,7.51,14.07,13.13,17.26,24.55,19.77,29.85,48.17,25.0,13.39,16.49,21.5,12.66,16.21,13.81,17.51,24.52,20.76,31.71,10.59,10.63,50.81,15.81,7.25,31.85,16.82,32.9,17.89,14.48,9.6,34.63,34.65,23.33,45.35,23.17,40.55,20.69,20.9,30.46,18.15,23.1,15.69,19.81,28.44,15.48,16.58,7.56,10.34,43.11,13.0,13.51,18.71,12.74,13.0,16.4,20.53,16.47,26.59,38.73,24.27,12.76,30.06,25.89,48.33,13.27,28.17,12.9,28.15,11.59,7.74,30.14,12.16,13.42,8.58,15.98,13.42,16.27,10.09,20.45,13.28,22.12,24.01,15.69,11.61,10.77,15.53,10.07,12.6,32.83,35.83,29.03,27.18,22.67,17.82,18.78],\"yaxis\":\"y\",\"type\":\"bar\"}],                        {\"template\":{\"data\":{\"histogram2dcontour\":[{\"type\":\"histogram2dcontour\",\"colorbar\":{\"outlinewidth\":0,\"ticks\":\"\"},\"colorscale\":[[0.0,\"#0d0887\"],[0.1111111111111111,\"#46039f\"],[0.2222222222222222,\"#7201a8\"],[0.3333333333333333,\"#9c179e\"],[0.4444444444444444,\"#bd3786\"],[0.5555555555555556,\"#d8576b\"],[0.6666666666666666,\"#ed7953\"],[0.7777777777777778,\"#fb9f3a\"],[0.8888888888888888,\"#fdca26\"],[1.0,\"#f0f921\"]]}],\"choropleth\":[{\"type\":\"choropleth\",\"colorbar\":{\"outlinewidth\":0,\"ticks\":\"\"}}],\"histogram2d\":[{\"type\":\"histogram2d\",\"colorbar\":{\"outlinewidth\":0,\"ticks\":\"\"},\"colorscale\":[[0.0,\"#0d0887\"],[0.1111111111111111,\"#46039f\"],[0.2222222222222222,\"#7201a8\"],[0.3333333333333333,\"#9c179e\"],[0.4444444444444444,\"#bd3786\"],[0.5555555555555556,\"#d8576b\"],[0.6666666666666666,\"#ed7953\"],[0.7777777777777778,\"#fb9f3a\"],[0.8888888888888888,\"#fdca26\"],[1.0,\"#f0f921\"]]}],\"heatmap\":[{\"type\":\"heatmap\",\"colorbar\":{\"outlinewidth\":0,\"ticks\":\"\"},\"colorscale\":[[0.0,\"#0d0887\"],[0.1111111111111111,\"#46039f\"],[0.2222222222222222,\"#7201a8\"],[0.3333333333333333,\"#9c179e\"],[0.4444444444444444,\"#bd3786\"],[0.5555555555555556,\"#d8576b\"],[0.6666666666666666,\"#ed7953\"],[0.7777777777777778,\"#fb9f3a\"],[0.8888888888888888,\"#fdca26\"],[1.0,\"#f0f921\"]]}],\"heatmapgl\":[{\"type\":\"heatmapgl\",\"colorbar\":{\"outlinewidth\":0,\"ticks\":\"\"},\"colorscale\":[[0.0,\"#0d0887\"],[0.1111111111111111,\"#46039f\"],[0.2222222222222222,\"#7201a8\"],[0.3333333333333333,\"#9c179e\"],[0.4444444444444444,\"#bd3786\"],[0.5555555555555556,\"#d8576b\"],[0.6666666666666666,\"#ed7953\"],[0.7777777777777778,\"#fb9f3a\"],[0.8888888888888888,\"#fdca26\"],[1.0,\"#f0f921\"]]}],\"contourcarpet\":[{\"type\":\"contourcarpet\",\"colorbar\":{\"outlinewidth\":0,\"ticks\":\"\"}}],\"contour\":[{\"type\":\"contour\",\"colorbar\":{\"outlinewidth\":0,\"ticks\":\"\"},\"colorscale\":[[0.0,\"#0d0887\"],[0.1111111111111111,\"#46039f\"],[0.2222222222222222,\"#7201a8\"],[0.3333333333333333,\"#9c179e\"],[0.4444444444444444,\"#bd3786\"],[0.5555555555555556,\"#d8576b\"],[0.6666666666666666,\"#ed7953\"],[0.7777777777777778,\"#fb9f3a\"],[0.8888888888888888,\"#fdca26\"],[1.0,\"#f0f921\"]]}],\"surface\":[{\"type\":\"surface\",\"colorbar\":{\"outlinewidth\":0,\"ticks\":\"\"},\"colorscale\":[[0.0,\"#0d0887\"],[0.1111111111111111,\"#46039f\"],[0.2222222222222222,\"#7201a8\"],[0.3333333333333333,\"#9c179e\"],[0.4444444444444444,\"#bd3786\"],[0.5555555555555556,\"#d8576b\"],[0.6666666666666666,\"#ed7953\"],[0.7777777777777778,\"#fb9f3a\"],[0.8888888888888888,\"#fdca26\"],[1.0,\"#f0f921\"]]}],\"mesh3d\":[{\"type\":\"mesh3d\",\"colorbar\":{\"outlinewidth\":0,\"ticks\":\"\"}}],\"scatter\":[{\"fillpattern\":{\"fillmode\":\"overlay\",\"size\":10,\"solidity\":0.2},\"type\":\"scatter\"}],\"parcoords\":[{\"type\":\"parcoords\",\"line\":{\"colorbar\":{\"outlinewidth\":0,\"ticks\":\"\"}}}],\"scatterpolargl\":[{\"type\":\"scatterpolargl\",\"marker\":{\"colorbar\":{\"outlinewidth\":0,\"ticks\":\"\"}}}],\"bar\":[{\"error_x\":{\"color\":\"#2a3f5f\"},\"error_y\":{\"color\":\"#2a3f5f\"},\"marker\":{\"line\":{\"color\":\"#E5ECF6\",\"width\":0.5},\"pattern\":{\"fillmode\":\"overlay\",\"size\":10,\"solidity\":0.2}},\"type\":\"bar\"}],\"scattergeo\":[{\"type\":\"scattergeo\",\"marker\":{\"colorbar\":{\"outlinewidth\":0,\"ticks\":\"\"}}}],\"scatterpolar\":[{\"type\":\"scatterpolar\",\"marker\":{\"colorbar\":{\"outlinewidth\":0,\"ticks\":\"\"}}}],\"histogram\":[{\"marker\":{\"pattern\":{\"fillmode\":\"overlay\",\"size\":10,\"solidity\":0.2}},\"type\":\"histogram\"}],\"scattergl\":[{\"type\":\"scattergl\",\"marker\":{\"colorbar\":{\"outlinewidth\":0,\"ticks\":\"\"}}}],\"scatter3d\":[{\"type\":\"scatter3d\",\"line\":{\"colorbar\":{\"outlinewidth\":0,\"ticks\":\"\"}},\"marker\":{\"colorbar\":{\"outlinewidth\":0,\"ticks\":\"\"}}}],\"scattermapbox\":[{\"type\":\"scattermapbox\",\"marker\":{\"colorbar\":{\"outlinewidth\":0,\"ticks\":\"\"}}}],\"scatterternary\":[{\"type\":\"scatterternary\",\"marker\":{\"colorbar\":{\"outlinewidth\":0,\"ticks\":\"\"}}}],\"scattercarpet\":[{\"type\":\"scattercarpet\",\"marker\":{\"colorbar\":{\"outlinewidth\":0,\"ticks\":\"\"}}}],\"carpet\":[{\"aaxis\":{\"endlinecolor\":\"#2a3f5f\",\"gridcolor\":\"white\",\"linecolor\":\"white\",\"minorgridcolor\":\"white\",\"startlinecolor\":\"#2a3f5f\"},\"baxis\":{\"endlinecolor\":\"#2a3f5f\",\"gridcolor\":\"white\",\"linecolor\":\"white\",\"minorgridcolor\":\"white\",\"startlinecolor\":\"#2a3f5f\"},\"type\":\"carpet\"}],\"table\":[{\"cells\":{\"fill\":{\"color\":\"#EBF0F8\"},\"line\":{\"color\":\"white\"}},\"header\":{\"fill\":{\"color\":\"#C8D4E3\"},\"line\":{\"color\":\"white\"}},\"type\":\"table\"}],\"barpolar\":[{\"marker\":{\"line\":{\"color\":\"#E5ECF6\",\"width\":0.5},\"pattern\":{\"fillmode\":\"overlay\",\"size\":10,\"solidity\":0.2}},\"type\":\"barpolar\"}],\"pie\":[{\"automargin\":true,\"type\":\"pie\"}]},\"layout\":{\"autotypenumbers\":\"strict\",\"colorway\":[\"#636efa\",\"#EF553B\",\"#00cc96\",\"#ab63fa\",\"#FFA15A\",\"#19d3f3\",\"#FF6692\",\"#B6E880\",\"#FF97FF\",\"#FECB52\"],\"font\":{\"color\":\"#2a3f5f\"},\"hovermode\":\"closest\",\"hoverlabel\":{\"align\":\"left\"},\"paper_bgcolor\":\"white\",\"plot_bgcolor\":\"#E5ECF6\",\"polar\":{\"bgcolor\":\"#E5ECF6\",\"angularaxis\":{\"gridcolor\":\"white\",\"linecolor\":\"white\",\"ticks\":\"\"},\"radialaxis\":{\"gridcolor\":\"white\",\"linecolor\":\"white\",\"ticks\":\"\"}},\"ternary\":{\"bgcolor\":\"#E5ECF6\",\"aaxis\":{\"gridcolor\":\"white\",\"linecolor\":\"white\",\"ticks\":\"\"},\"baxis\":{\"gridcolor\":\"white\",\"linecolor\":\"white\",\"ticks\":\"\"},\"caxis\":{\"gridcolor\":\"white\",\"linecolor\":\"white\",\"ticks\":\"\"}},\"coloraxis\":{\"colorbar\":{\"outlinewidth\":0,\"ticks\":\"\"}},\"colorscale\":{\"sequential\":[[0.0,\"#0d0887\"],[0.1111111111111111,\"#46039f\"],[0.2222222222222222,\"#7201a8\"],[0.3333333333333333,\"#9c179e\"],[0.4444444444444444,\"#bd3786\"],[0.5555555555555556,\"#d8576b\"],[0.6666666666666666,\"#ed7953\"],[0.7777777777777778,\"#fb9f3a\"],[0.8888888888888888,\"#fdca26\"],[1.0,\"#f0f921\"]],\"sequentialminus\":[[0.0,\"#0d0887\"],[0.1111111111111111,\"#46039f\"],[0.2222222222222222,\"#7201a8\"],[0.3333333333333333,\"#9c179e\"],[0.4444444444444444,\"#bd3786\"],[0.5555555555555556,\"#d8576b\"],[0.6666666666666666,\"#ed7953\"],[0.7777777777777778,\"#fb9f3a\"],[0.8888888888888888,\"#fdca26\"],[1.0,\"#f0f921\"]],\"diverging\":[[0,\"#8e0152\"],[0.1,\"#c51b7d\"],[0.2,\"#de77ae\"],[0.3,\"#f1b6da\"],[0.4,\"#fde0ef\"],[0.5,\"#f7f7f7\"],[0.6,\"#e6f5d0\"],[0.7,\"#b8e186\"],[0.8,\"#7fbc41\"],[0.9,\"#4d9221\"],[1,\"#276419\"]]},\"xaxis\":{\"gridcolor\":\"white\",\"linecolor\":\"white\",\"ticks\":\"\",\"title\":{\"standoff\":15},\"zerolinecolor\":\"white\",\"automargin\":true,\"zerolinewidth\":2},\"yaxis\":{\"gridcolor\":\"white\",\"linecolor\":\"white\",\"ticks\":\"\",\"title\":{\"standoff\":15},\"zerolinecolor\":\"white\",\"automargin\":true,\"zerolinewidth\":2},\"scene\":{\"xaxis\":{\"backgroundcolor\":\"#E5ECF6\",\"gridcolor\":\"white\",\"linecolor\":\"white\",\"showbackground\":true,\"ticks\":\"\",\"zerolinecolor\":\"white\",\"gridwidth\":2},\"yaxis\":{\"backgroundcolor\":\"#E5ECF6\",\"gridcolor\":\"white\",\"linecolor\":\"white\",\"showbackground\":true,\"ticks\":\"\",\"zerolinecolor\":\"white\",\"gridwidth\":2},\"zaxis\":{\"backgroundcolor\":\"#E5ECF6\",\"gridcolor\":\"white\",\"linecolor\":\"white\",\"showbackground\":true,\"ticks\":\"\",\"zerolinecolor\":\"white\",\"gridwidth\":2}},\"shapedefaults\":{\"line\":{\"color\":\"#2a3f5f\"}},\"annotationdefaults\":{\"arrowcolor\":\"#2a3f5f\",\"arrowhead\":0,\"arrowwidth\":1},\"geo\":{\"bgcolor\":\"white\",\"landcolor\":\"#E5ECF6\",\"subunitcolor\":\"white\",\"showland\":true,\"showlakes\":true,\"lakecolor\":\"white\"},\"title\":{\"x\":0.05},\"mapbox\":{\"style\":\"light\"}}},\"xaxis\":{\"anchor\":\"y\",\"domain\":[0.0,1.0],\"title\":{\"text\":\"day\"}},\"yaxis\":{\"anchor\":\"x\",\"domain\":[0.0,1.0],\"title\":{\"text\":\"total_bill\"}},\"legend\":{\"tracegroupgap\":0},\"margin\":{\"t\":60},\"barmode\":\"relative\"},                        {\"responsive\": true}                    ).then(function(){\n",
              "                            \n",
              "var gd = document.getElementById('e90c1756-8ea6-4f27-afc0-d582e8feab0b');\n",
              "var x = new MutationObserver(function (mutations, observer) {{\n",
              "        var display = window.getComputedStyle(gd).display;\n",
              "        if (!display || display === 'none') {{\n",
              "            console.log([gd, 'removed!']);\n",
              "            Plotly.purge(gd);\n",
              "            observer.disconnect();\n",
              "        }}\n",
              "}});\n",
              "\n",
              "// Listen for the removal of the full notebook cells\n",
              "var notebookContainer = gd.closest('#notebook-container');\n",
              "if (notebookContainer) {{\n",
              "    x.observe(notebookContainer, {childList: true});\n",
              "}}\n",
              "\n",
              "// Listen for the clearing of the current output cell\n",
              "var outputEl = gd.closest('.output');\n",
              "if (outputEl) {{\n",
              "    x.observe(outputEl, {childList: true});\n",
              "}}\n",
              "\n",
              "                        })                };                            </script>        </div>\n",
              "</body>\n",
              "</html>"
            ]
          },
          "metadata": {}
        }
      ]
    },
    {
      "cell_type": "markdown",
      "source": [
        "Есть возможность настроить этот график. Настройки, которые мы будем использовать:\n",
        "\n",
        "color:Используется для раскрашивания полосок.\n",
        "\n",
        "facet_row: Разделяет график на строки в соответствии с переданными данными\n",
        "\n",
        "facet_col: Разделяет график на столбцы в соответствии с переданными данными"
      ],
      "metadata": {
        "id": "UTJT3VC4vd8J"
      }
    },
    {
      "cell_type": "code",
      "source": [
        "import plotly.express as px\n",
        "\n",
        "# Загружаем данные\n",
        "df = px.data.tips()\n",
        "\n",
        "# Создаем диаграмму\n",
        "fig = px.bar(df, x='day', y=\"total_bill\", color='sex',\n",
        "             facet_row='time', facet_col='sex')\n",
        "\n",
        "# Отображение графика\n",
        "fig.show()"
      ],
      "metadata": {
        "colab": {
          "base_uri": "https://localhost:8080/",
          "height": 542
        },
        "id": "C-X07emYeX7g",
        "outputId": "8715b636-702c-468b-f358-7cd1793d20c4"
      },
      "execution_count": 22,
      "outputs": [
        {
          "output_type": "display_data",
          "data": {
            "text/html": [
              "<html>\n",
              "<head><meta charset=\"utf-8\" /></head>\n",
              "<body>\n",
              "    <div>            <script src=\"https://cdnjs.cloudflare.com/ajax/libs/mathjax/2.7.5/MathJax.js?config=TeX-AMS-MML_SVG\"></script><script type=\"text/javascript\">if (window.MathJax && window.MathJax.Hub && window.MathJax.Hub.Config) {window.MathJax.Hub.Config({SVG: {font: \"STIX-Web\"}});}</script>                <script type=\"text/javascript\">window.PlotlyConfig = {MathJaxConfig: 'local'};</script>\n",
              "        <script charset=\"utf-8\" src=\"https://cdn.plot.ly/plotly-2.35.2.min.js\"></script>                <div id=\"bcb856ae-5509-4ed7-b0ae-3fbd59b2422a\" class=\"plotly-graph-div\" style=\"height:525px; width:100%;\"></div>            <script type=\"text/javascript\">                                    window.PLOTLYENV=window.PLOTLYENV || {};                                    if (document.getElementById(\"bcb856ae-5509-4ed7-b0ae-3fbd59b2422a\")) {                    Plotly.newPlot(                        \"bcb856ae-5509-4ed7-b0ae-3fbd59b2422a\",                        [{\"alignmentgroup\":\"True\",\"hovertemplate\":\"sex=Female\\u003cbr\\u003etime=Dinner\\u003cbr\\u003eday=%{x}\\u003cbr\\u003etotal_bill=%{y}\\u003cextra\\u003e\\u003c\\u002fextra\\u003e\",\"legendgroup\":\"Female\",\"marker\":{\"color\":\"#636efa\",\"pattern\":{\"shape\":\"\"}},\"name\":\"Female\",\"offsetgroup\":\"Female\",\"orientation\":\"v\",\"showlegend\":true,\"textposition\":\"auto\",\"x\":[\"Sun\",\"Sun\",\"Sun\",\"Sun\",\"Sun\",\"Sun\",\"Sat\",\"Sat\",\"Sat\",\"Sat\",\"Sat\",\"Sat\",\"Sun\",\"Sun\",\"Sat\",\"Sat\",\"Sat\",\"Sat\",\"Sat\",\"Sat\",\"Sat\",\"Fri\",\"Fri\",\"Fri\",\"Fri\",\"Fri\",\"Sat\",\"Sat\",\"Sat\",\"Sat\",\"Sat\",\"Sun\",\"Sun\",\"Sun\",\"Sun\",\"Sun\",\"Sun\",\"Sun\",\"Sat\",\"Sat\",\"Sun\",\"Sun\",\"Sun\",\"Sat\",\"Sat\",\"Sat\",\"Sat\",\"Sat\",\"Sat\",\"Sat\",\"Sat\",\"Thur\"],\"xaxis\":\"x3\",\"y\":[16.99,24.59,35.26,14.83,10.33,16.97,20.29,15.77,19.65,15.06,20.69,16.93,10.29,34.81,26.41,16.45,3.07,17.07,26.86,25.28,14.73,5.75,16.32,22.75,11.35,15.38,44.3,22.42,20.92,14.31,7.25,25.71,17.31,29.85,25.0,13.39,16.21,17.51,10.59,10.63,9.6,20.9,18.15,12.76,13.27,28.17,12.9,30.14,22.12,35.83,27.18,18.78],\"yaxis\":\"y3\",\"type\":\"bar\"},{\"alignmentgroup\":\"True\",\"hovertemplate\":\"sex=Female\\u003cbr\\u003etime=Lunch\\u003cbr\\u003eday=%{x}\\u003cbr\\u003etotal_bill=%{y}\\u003cextra\\u003e\\u003c\\u002fextra\\u003e\",\"legendgroup\":\"Female\",\"marker\":{\"color\":\"#636efa\",\"pattern\":{\"shape\":\"\"}},\"name\":\"Female\",\"offsetgroup\":\"Female\",\"orientation\":\"v\",\"showlegend\":false,\"textposition\":\"auto\",\"x\":[\"Thur\",\"Thur\",\"Thur\",\"Thur\",\"Thur\",\"Thur\",\"Thur\",\"Thur\",\"Thur\",\"Thur\",\"Thur\",\"Thur\",\"Thur\",\"Thur\",\"Thur\",\"Thur\",\"Thur\",\"Thur\",\"Thur\",\"Thur\",\"Thur\",\"Thur\",\"Thur\",\"Thur\",\"Thur\",\"Thur\",\"Thur\",\"Thur\",\"Thur\",\"Thur\",\"Thur\",\"Fri\",\"Fri\",\"Fri\",\"Fri\"],\"xaxis\":\"x\",\"y\":[10.07,34.83,10.65,12.43,24.08,13.42,12.48,29.8,14.52,11.38,20.27,11.17,12.26,18.26,8.51,10.33,14.15,13.16,17.47,27.05,16.43,8.35,18.64,11.87,19.81,43.11,13.0,12.74,13.0,16.4,16.47,13.42,15.98,16.27,10.09],\"yaxis\":\"y\",\"type\":\"bar\"},{\"alignmentgroup\":\"True\",\"hovertemplate\":\"sex=Male\\u003cbr\\u003etime=Dinner\\u003cbr\\u003eday=%{x}\\u003cbr\\u003etotal_bill=%{y}\\u003cextra\\u003e\\u003c\\u002fextra\\u003e\",\"legendgroup\":\"Male\",\"marker\":{\"color\":\"#EF553B\",\"pattern\":{\"shape\":\"\"}},\"name\":\"Male\",\"offsetgroup\":\"Male\",\"orientation\":\"v\",\"showlegend\":true,\"textposition\":\"auto\",\"x\":[\"Sun\",\"Sun\",\"Sun\",\"Sun\",\"Sun\",\"Sun\",\"Sun\",\"Sun\",\"Sun\",\"Sun\",\"Sun\",\"Sun\",\"Sun\",\"Sat\",\"Sat\",\"Sat\",\"Sat\",\"Sat\",\"Sat\",\"Sat\",\"Sat\",\"Sat\",\"Sat\",\"Sat\",\"Sat\",\"Sat\",\"Sat\",\"Sat\",\"Sat\",\"Sun\",\"Sun\",\"Sun\",\"Sun\",\"Sun\",\"Sun\",\"Sun\",\"Sun\",\"Sun\",\"Sun\",\"Sun\",\"Sun\",\"Sun\",\"Sat\",\"Sat\",\"Sat\",\"Sat\",\"Sat\",\"Sat\",\"Sat\",\"Sat\",\"Sat\",\"Sat\",\"Sat\",\"Sat\",\"Sat\",\"Sat\",\"Fri\",\"Fri\",\"Fri\",\"Fri\",\"Fri\",\"Fri\",\"Fri\",\"Sat\",\"Sat\",\"Sat\",\"Sat\",\"Sat\",\"Sun\",\"Sun\",\"Sun\",\"Sun\",\"Sun\",\"Sun\",\"Sun\",\"Sun\",\"Sun\",\"Sun\",\"Sun\",\"Sun\",\"Sun\",\"Sun\",\"Sun\",\"Sun\",\"Sat\",\"Sat\",\"Sun\",\"Sun\",\"Sun\",\"Sun\",\"Sun\",\"Sun\",\"Sun\",\"Sun\",\"Sun\",\"Sun\",\"Sun\",\"Sun\",\"Sun\",\"Sun\",\"Sun\",\"Sun\",\"Sat\",\"Sat\",\"Sat\",\"Sat\",\"Sat\",\"Sat\",\"Sat\",\"Sat\",\"Sat\",\"Sat\",\"Sat\",\"Sat\",\"Sat\",\"Sat\",\"Sat\",\"Sat\",\"Sat\",\"Sat\",\"Sat\",\"Sat\",\"Sat\",\"Sat\"],\"xaxis\":\"x4\",\"y\":[10.34,21.01,23.68,25.29,8.77,26.88,15.04,14.78,10.27,15.42,18.43,21.58,16.29,20.65,17.92,39.42,19.82,17.81,13.37,12.69,21.7,9.55,18.35,17.78,24.06,16.31,18.69,31.27,16.04,17.46,13.94,9.68,30.4,18.29,22.23,32.4,28.55,18.04,12.54,9.94,25.56,19.49,38.01,11.24,48.27,20.29,13.81,11.02,18.29,17.59,20.08,20.23,15.01,12.02,10.51,17.92,28.97,22.49,40.17,27.28,12.03,21.01,12.46,15.36,20.49,25.21,18.24,14.0,38.07,23.95,29.93,14.07,13.13,17.26,24.55,19.77,48.17,16.49,21.5,12.66,13.81,24.52,20.76,31.71,50.81,15.81,7.25,31.85,16.82,32.9,17.89,14.48,34.63,34.65,23.33,45.35,23.17,40.55,20.69,30.46,23.1,15.69,26.59,38.73,24.27,30.06,25.89,48.33,28.15,11.59,7.74,20.45,13.28,24.01,15.69,11.61,10.77,15.53,10.07,12.6,32.83,29.03,22.67,17.82],\"yaxis\":\"y4\",\"type\":\"bar\"},{\"alignmentgroup\":\"True\",\"hovertemplate\":\"sex=Male\\u003cbr\\u003etime=Lunch\\u003cbr\\u003eday=%{x}\\u003cbr\\u003etotal_bill=%{y}\\u003cextra\\u003e\\u003c\\u002fextra\\u003e\",\"legendgroup\":\"Male\",\"marker\":{\"color\":\"#EF553B\",\"pattern\":{\"shape\":\"\"}},\"name\":\"Male\",\"offsetgroup\":\"Male\",\"orientation\":\"v\",\"showlegend\":false,\"textposition\":\"auto\",\"x\":[\"Thur\",\"Thur\",\"Thur\",\"Thur\",\"Thur\",\"Thur\",\"Thur\",\"Thur\",\"Thur\",\"Thur\",\"Thur\",\"Thur\",\"Thur\",\"Thur\",\"Thur\",\"Thur\",\"Thur\",\"Thur\",\"Thur\",\"Thur\",\"Thur\",\"Thur\",\"Thur\",\"Thur\",\"Thur\",\"Thur\",\"Thur\",\"Thur\",\"Thur\",\"Thur\",\"Fri\",\"Fri\",\"Fri\"],\"xaxis\":\"x2\",\"y\":[27.2,22.76,17.29,19.44,16.66,32.68,15.98,13.03,18.28,24.71,21.16,11.69,14.26,15.95,8.52,22.82,19.08,16.0,34.3,41.19,9.78,7.51,28.44,15.48,16.58,7.56,10.34,13.51,18.71,20.53,12.16,8.58,13.42],\"yaxis\":\"y2\",\"type\":\"bar\"}],                        {\"template\":{\"data\":{\"histogram2dcontour\":[{\"type\":\"histogram2dcontour\",\"colorbar\":{\"outlinewidth\":0,\"ticks\":\"\"},\"colorscale\":[[0.0,\"#0d0887\"],[0.1111111111111111,\"#46039f\"],[0.2222222222222222,\"#7201a8\"],[0.3333333333333333,\"#9c179e\"],[0.4444444444444444,\"#bd3786\"],[0.5555555555555556,\"#d8576b\"],[0.6666666666666666,\"#ed7953\"],[0.7777777777777778,\"#fb9f3a\"],[0.8888888888888888,\"#fdca26\"],[1.0,\"#f0f921\"]]}],\"choropleth\":[{\"type\":\"choropleth\",\"colorbar\":{\"outlinewidth\":0,\"ticks\":\"\"}}],\"histogram2d\":[{\"type\":\"histogram2d\",\"colorbar\":{\"outlinewidth\":0,\"ticks\":\"\"},\"colorscale\":[[0.0,\"#0d0887\"],[0.1111111111111111,\"#46039f\"],[0.2222222222222222,\"#7201a8\"],[0.3333333333333333,\"#9c179e\"],[0.4444444444444444,\"#bd3786\"],[0.5555555555555556,\"#d8576b\"],[0.6666666666666666,\"#ed7953\"],[0.7777777777777778,\"#fb9f3a\"],[0.8888888888888888,\"#fdca26\"],[1.0,\"#f0f921\"]]}],\"heatmap\":[{\"type\":\"heatmap\",\"colorbar\":{\"outlinewidth\":0,\"ticks\":\"\"},\"colorscale\":[[0.0,\"#0d0887\"],[0.1111111111111111,\"#46039f\"],[0.2222222222222222,\"#7201a8\"],[0.3333333333333333,\"#9c179e\"],[0.4444444444444444,\"#bd3786\"],[0.5555555555555556,\"#d8576b\"],[0.6666666666666666,\"#ed7953\"],[0.7777777777777778,\"#fb9f3a\"],[0.8888888888888888,\"#fdca26\"],[1.0,\"#f0f921\"]]}],\"heatmapgl\":[{\"type\":\"heatmapgl\",\"colorbar\":{\"outlinewidth\":0,\"ticks\":\"\"},\"colorscale\":[[0.0,\"#0d0887\"],[0.1111111111111111,\"#46039f\"],[0.2222222222222222,\"#7201a8\"],[0.3333333333333333,\"#9c179e\"],[0.4444444444444444,\"#bd3786\"],[0.5555555555555556,\"#d8576b\"],[0.6666666666666666,\"#ed7953\"],[0.7777777777777778,\"#fb9f3a\"],[0.8888888888888888,\"#fdca26\"],[1.0,\"#f0f921\"]]}],\"contourcarpet\":[{\"type\":\"contourcarpet\",\"colorbar\":{\"outlinewidth\":0,\"ticks\":\"\"}}],\"contour\":[{\"type\":\"contour\",\"colorbar\":{\"outlinewidth\":0,\"ticks\":\"\"},\"colorscale\":[[0.0,\"#0d0887\"],[0.1111111111111111,\"#46039f\"],[0.2222222222222222,\"#7201a8\"],[0.3333333333333333,\"#9c179e\"],[0.4444444444444444,\"#bd3786\"],[0.5555555555555556,\"#d8576b\"],[0.6666666666666666,\"#ed7953\"],[0.7777777777777778,\"#fb9f3a\"],[0.8888888888888888,\"#fdca26\"],[1.0,\"#f0f921\"]]}],\"surface\":[{\"type\":\"surface\",\"colorbar\":{\"outlinewidth\":0,\"ticks\":\"\"},\"colorscale\":[[0.0,\"#0d0887\"],[0.1111111111111111,\"#46039f\"],[0.2222222222222222,\"#7201a8\"],[0.3333333333333333,\"#9c179e\"],[0.4444444444444444,\"#bd3786\"],[0.5555555555555556,\"#d8576b\"],[0.6666666666666666,\"#ed7953\"],[0.7777777777777778,\"#fb9f3a\"],[0.8888888888888888,\"#fdca26\"],[1.0,\"#f0f921\"]]}],\"mesh3d\":[{\"type\":\"mesh3d\",\"colorbar\":{\"outlinewidth\":0,\"ticks\":\"\"}}],\"scatter\":[{\"fillpattern\":{\"fillmode\":\"overlay\",\"size\":10,\"solidity\":0.2},\"type\":\"scatter\"}],\"parcoords\":[{\"type\":\"parcoords\",\"line\":{\"colorbar\":{\"outlinewidth\":0,\"ticks\":\"\"}}}],\"scatterpolargl\":[{\"type\":\"scatterpolargl\",\"marker\":{\"colorbar\":{\"outlinewidth\":0,\"ticks\":\"\"}}}],\"bar\":[{\"error_x\":{\"color\":\"#2a3f5f\"},\"error_y\":{\"color\":\"#2a3f5f\"},\"marker\":{\"line\":{\"color\":\"#E5ECF6\",\"width\":0.5},\"pattern\":{\"fillmode\":\"overlay\",\"size\":10,\"solidity\":0.2}},\"type\":\"bar\"}],\"scattergeo\":[{\"type\":\"scattergeo\",\"marker\":{\"colorbar\":{\"outlinewidth\":0,\"ticks\":\"\"}}}],\"scatterpolar\":[{\"type\":\"scatterpolar\",\"marker\":{\"colorbar\":{\"outlinewidth\":0,\"ticks\":\"\"}}}],\"histogram\":[{\"marker\":{\"pattern\":{\"fillmode\":\"overlay\",\"size\":10,\"solidity\":0.2}},\"type\":\"histogram\"}],\"scattergl\":[{\"type\":\"scattergl\",\"marker\":{\"colorbar\":{\"outlinewidth\":0,\"ticks\":\"\"}}}],\"scatter3d\":[{\"type\":\"scatter3d\",\"line\":{\"colorbar\":{\"outlinewidth\":0,\"ticks\":\"\"}},\"marker\":{\"colorbar\":{\"outlinewidth\":0,\"ticks\":\"\"}}}],\"scattermapbox\":[{\"type\":\"scattermapbox\",\"marker\":{\"colorbar\":{\"outlinewidth\":0,\"ticks\":\"\"}}}],\"scatterternary\":[{\"type\":\"scatterternary\",\"marker\":{\"colorbar\":{\"outlinewidth\":0,\"ticks\":\"\"}}}],\"scattercarpet\":[{\"type\":\"scattercarpet\",\"marker\":{\"colorbar\":{\"outlinewidth\":0,\"ticks\":\"\"}}}],\"carpet\":[{\"aaxis\":{\"endlinecolor\":\"#2a3f5f\",\"gridcolor\":\"white\",\"linecolor\":\"white\",\"minorgridcolor\":\"white\",\"startlinecolor\":\"#2a3f5f\"},\"baxis\":{\"endlinecolor\":\"#2a3f5f\",\"gridcolor\":\"white\",\"linecolor\":\"white\",\"minorgridcolor\":\"white\",\"startlinecolor\":\"#2a3f5f\"},\"type\":\"carpet\"}],\"table\":[{\"cells\":{\"fill\":{\"color\":\"#EBF0F8\"},\"line\":{\"color\":\"white\"}},\"header\":{\"fill\":{\"color\":\"#C8D4E3\"},\"line\":{\"color\":\"white\"}},\"type\":\"table\"}],\"barpolar\":[{\"marker\":{\"line\":{\"color\":\"#E5ECF6\",\"width\":0.5},\"pattern\":{\"fillmode\":\"overlay\",\"size\":10,\"solidity\":0.2}},\"type\":\"barpolar\"}],\"pie\":[{\"automargin\":true,\"type\":\"pie\"}]},\"layout\":{\"autotypenumbers\":\"strict\",\"colorway\":[\"#636efa\",\"#EF553B\",\"#00cc96\",\"#ab63fa\",\"#FFA15A\",\"#19d3f3\",\"#FF6692\",\"#B6E880\",\"#FF97FF\",\"#FECB52\"],\"font\":{\"color\":\"#2a3f5f\"},\"hovermode\":\"closest\",\"hoverlabel\":{\"align\":\"left\"},\"paper_bgcolor\":\"white\",\"plot_bgcolor\":\"#E5ECF6\",\"polar\":{\"bgcolor\":\"#E5ECF6\",\"angularaxis\":{\"gridcolor\":\"white\",\"linecolor\":\"white\",\"ticks\":\"\"},\"radialaxis\":{\"gridcolor\":\"white\",\"linecolor\":\"white\",\"ticks\":\"\"}},\"ternary\":{\"bgcolor\":\"#E5ECF6\",\"aaxis\":{\"gridcolor\":\"white\",\"linecolor\":\"white\",\"ticks\":\"\"},\"baxis\":{\"gridcolor\":\"white\",\"linecolor\":\"white\",\"ticks\":\"\"},\"caxis\":{\"gridcolor\":\"white\",\"linecolor\":\"white\",\"ticks\":\"\"}},\"coloraxis\":{\"colorbar\":{\"outlinewidth\":0,\"ticks\":\"\"}},\"colorscale\":{\"sequential\":[[0.0,\"#0d0887\"],[0.1111111111111111,\"#46039f\"],[0.2222222222222222,\"#7201a8\"],[0.3333333333333333,\"#9c179e\"],[0.4444444444444444,\"#bd3786\"],[0.5555555555555556,\"#d8576b\"],[0.6666666666666666,\"#ed7953\"],[0.7777777777777778,\"#fb9f3a\"],[0.8888888888888888,\"#fdca26\"],[1.0,\"#f0f921\"]],\"sequentialminus\":[[0.0,\"#0d0887\"],[0.1111111111111111,\"#46039f\"],[0.2222222222222222,\"#7201a8\"],[0.3333333333333333,\"#9c179e\"],[0.4444444444444444,\"#bd3786\"],[0.5555555555555556,\"#d8576b\"],[0.6666666666666666,\"#ed7953\"],[0.7777777777777778,\"#fb9f3a\"],[0.8888888888888888,\"#fdca26\"],[1.0,\"#f0f921\"]],\"diverging\":[[0,\"#8e0152\"],[0.1,\"#c51b7d\"],[0.2,\"#de77ae\"],[0.3,\"#f1b6da\"],[0.4,\"#fde0ef\"],[0.5,\"#f7f7f7\"],[0.6,\"#e6f5d0\"],[0.7,\"#b8e186\"],[0.8,\"#7fbc41\"],[0.9,\"#4d9221\"],[1,\"#276419\"]]},\"xaxis\":{\"gridcolor\":\"white\",\"linecolor\":\"white\",\"ticks\":\"\",\"title\":{\"standoff\":15},\"zerolinecolor\":\"white\",\"automargin\":true,\"zerolinewidth\":2},\"yaxis\":{\"gridcolor\":\"white\",\"linecolor\":\"white\",\"ticks\":\"\",\"title\":{\"standoff\":15},\"zerolinecolor\":\"white\",\"automargin\":true,\"zerolinewidth\":2},\"scene\":{\"xaxis\":{\"backgroundcolor\":\"#E5ECF6\",\"gridcolor\":\"white\",\"linecolor\":\"white\",\"showbackground\":true,\"ticks\":\"\",\"zerolinecolor\":\"white\",\"gridwidth\":2},\"yaxis\":{\"backgroundcolor\":\"#E5ECF6\",\"gridcolor\":\"white\",\"linecolor\":\"white\",\"showbackground\":true,\"ticks\":\"\",\"zerolinecolor\":\"white\",\"gridwidth\":2},\"zaxis\":{\"backgroundcolor\":\"#E5ECF6\",\"gridcolor\":\"white\",\"linecolor\":\"white\",\"showbackground\":true,\"ticks\":\"\",\"zerolinecolor\":\"white\",\"gridwidth\":2}},\"shapedefaults\":{\"line\":{\"color\":\"#2a3f5f\"}},\"annotationdefaults\":{\"arrowcolor\":\"#2a3f5f\",\"arrowhead\":0,\"arrowwidth\":1},\"geo\":{\"bgcolor\":\"white\",\"landcolor\":\"#E5ECF6\",\"subunitcolor\":\"white\",\"showland\":true,\"showlakes\":true,\"lakecolor\":\"white\"},\"title\":{\"x\":0.05},\"mapbox\":{\"style\":\"light\"}}},\"xaxis\":{\"anchor\":\"y\",\"domain\":[0.0,0.48],\"title\":{\"text\":\"day\"}},\"yaxis\":{\"anchor\":\"x\",\"domain\":[0.0,0.485],\"title\":{\"text\":\"total_bill\"}},\"xaxis2\":{\"anchor\":\"y2\",\"domain\":[0.5,0.98],\"matches\":\"x\",\"title\":{\"text\":\"day\"}},\"yaxis2\":{\"anchor\":\"x2\",\"domain\":[0.0,0.485],\"matches\":\"y\",\"showticklabels\":false},\"xaxis3\":{\"anchor\":\"y3\",\"domain\":[0.0,0.48],\"matches\":\"x\",\"showticklabels\":false},\"yaxis3\":{\"anchor\":\"x3\",\"domain\":[0.515,1.0],\"matches\":\"y\",\"title\":{\"text\":\"total_bill\"}},\"xaxis4\":{\"anchor\":\"y4\",\"domain\":[0.5,0.98],\"matches\":\"x\",\"showticklabels\":false},\"yaxis4\":{\"anchor\":\"x4\",\"domain\":[0.515,1.0],\"matches\":\"y\",\"showticklabels\":false},\"annotations\":[{\"font\":{},\"showarrow\":false,\"text\":\"sex=Female\",\"x\":0.24,\"xanchor\":\"center\",\"xref\":\"paper\",\"y\":1.0,\"yanchor\":\"bottom\",\"yref\":\"paper\"},{\"font\":{},\"showarrow\":false,\"text\":\"sex=Male\",\"x\":0.74,\"xanchor\":\"center\",\"xref\":\"paper\",\"y\":1.0,\"yanchor\":\"bottom\",\"yref\":\"paper\"},{\"font\":{},\"showarrow\":false,\"text\":\"time=Lunch\",\"textangle\":90,\"x\":0.98,\"xanchor\":\"left\",\"xref\":\"paper\",\"y\":0.2425,\"yanchor\":\"middle\",\"yref\":\"paper\"},{\"font\":{},\"showarrow\":false,\"text\":\"time=Dinner\",\"textangle\":90,\"x\":0.98,\"xanchor\":\"left\",\"xref\":\"paper\",\"y\":0.7575000000000001,\"yanchor\":\"middle\",\"yref\":\"paper\"}],\"legend\":{\"title\":{\"text\":\"sex\"},\"tracegroupgap\":0},\"margin\":{\"t\":60},\"barmode\":\"relative\"},                        {\"responsive\": true}                    ).then(function(){\n",
              "                            \n",
              "var gd = document.getElementById('bcb856ae-5509-4ed7-b0ae-3fbd59b2422a');\n",
              "var x = new MutationObserver(function (mutations, observer) {{\n",
              "        var display = window.getComputedStyle(gd).display;\n",
              "        if (!display || display === 'none') {{\n",
              "            console.log([gd, 'removed!']);\n",
              "            Plotly.purge(gd);\n",
              "            observer.disconnect();\n",
              "        }}\n",
              "}});\n",
              "\n",
              "// Listen for the removal of the full notebook cells\n",
              "var notebookContainer = gd.closest('#notebook-container');\n",
              "if (notebookContainer) {{\n",
              "    x.observe(notebookContainer, {childList: true});\n",
              "}}\n",
              "\n",
              "// Listen for the clearing of the current output cell\n",
              "var outputEl = gd.closest('.output');\n",
              "if (outputEl) {{\n",
              "    x.observe(outputEl, {childList: true});\n",
              "}}\n",
              "\n",
              "                        })                };                            </script>        </div>\n",
              "</body>\n",
              "</html>"
            ]
          },
          "metadata": {}
        }
      ]
    },
    {
      "cell_type": "markdown",
      "source": [
        "Рассмотрим также точечный график в бибилиотеке Plotly.\n",
        "\n",
        "Точечная диаграмма — это набор точек, представляющих отдельные фрагменты данных по горизонтальной и вертикальной осям. График, на котором значения двух переменных откладываются по осям X и Y, а расположение полученных точек показывает корреляцию между ними. Его можно создать с помощью метода px.scatter().\n",
        "\n",
        "Этот код создаёт точечную диаграмму, на которой по оси X отображается общая сумма счёта (total_bill), а по оси Y — чаевые (tip). Данные для диаграммы загружаются из встроенного в библиотеку Plotly набора данных tips."
      ],
      "metadata": {
        "id": "NN0RaYuoetD9"
      }
    },
    {
      "cell_type": "code",
      "source": [
        "import plotly.express as px\n",
        "\n",
        "# Загружаем данные\n",
        "df = px.data.tips()\n",
        "\n",
        "# Создаем график\n",
        "fig = px.scatter(df, x='total_bill', y=\"tip\")\n",
        "\n",
        "# Отображаем график\n",
        "fig.show()"
      ],
      "metadata": {
        "colab": {
          "base_uri": "https://localhost:8080/",
          "height": 542
        },
        "id": "T97zkLTBe1y_",
        "outputId": "e32dc39a-1f47-471f-c2c6-0b55eb299cdb"
      },
      "execution_count": 11,
      "outputs": [
        {
          "output_type": "display_data",
          "data": {
            "text/html": [
              "<html>\n",
              "<head><meta charset=\"utf-8\" /></head>\n",
              "<body>\n",
              "    <div>            <script src=\"https://cdnjs.cloudflare.com/ajax/libs/mathjax/2.7.5/MathJax.js?config=TeX-AMS-MML_SVG\"></script><script type=\"text/javascript\">if (window.MathJax && window.MathJax.Hub && window.MathJax.Hub.Config) {window.MathJax.Hub.Config({SVG: {font: \"STIX-Web\"}});}</script>                <script type=\"text/javascript\">window.PlotlyConfig = {MathJaxConfig: 'local'};</script>\n",
              "        <script charset=\"utf-8\" src=\"https://cdn.plot.ly/plotly-2.35.2.min.js\"></script>                <div id=\"155d0ebd-8759-4eae-b514-3c63f6e9c2fd\" class=\"plotly-graph-div\" style=\"height:525px; width:100%;\"></div>            <script type=\"text/javascript\">                                    window.PLOTLYENV=window.PLOTLYENV || {};                                    if (document.getElementById(\"155d0ebd-8759-4eae-b514-3c63f6e9c2fd\")) {                    Plotly.newPlot(                        \"155d0ebd-8759-4eae-b514-3c63f6e9c2fd\",                        [{\"hovertemplate\":\"total_bill=%{x}\\u003cbr\\u003etip=%{y}\\u003cextra\\u003e\\u003c\\u002fextra\\u003e\",\"legendgroup\":\"\",\"marker\":{\"color\":\"#636efa\",\"symbol\":\"circle\"},\"mode\":\"markers\",\"name\":\"\",\"orientation\":\"v\",\"showlegend\":false,\"x\":[16.99,10.34,21.01,23.68,24.59,25.29,8.77,26.88,15.04,14.78,10.27,35.26,15.42,18.43,14.83,21.58,10.33,16.29,16.97,20.65,17.92,20.29,15.77,39.42,19.82,17.81,13.37,12.69,21.7,19.65,9.55,18.35,15.06,20.69,17.78,24.06,16.31,16.93,18.69,31.27,16.04,17.46,13.94,9.68,30.4,18.29,22.23,32.4,28.55,18.04,12.54,10.29,34.81,9.94,25.56,19.49,38.01,26.41,11.24,48.27,20.29,13.81,11.02,18.29,17.59,20.08,16.45,3.07,20.23,15.01,12.02,17.07,26.86,25.28,14.73,10.51,17.92,27.2,22.76,17.29,19.44,16.66,10.07,32.68,15.98,34.83,13.03,18.28,24.71,21.16,28.97,22.49,5.75,16.32,22.75,40.17,27.28,12.03,21.01,12.46,11.35,15.38,44.3,22.42,20.92,15.36,20.49,25.21,18.24,14.31,14.0,7.25,38.07,23.95,25.71,17.31,29.93,10.65,12.43,24.08,11.69,13.42,14.26,15.95,12.48,29.8,8.52,14.52,11.38,22.82,19.08,20.27,11.17,12.26,18.26,8.51,10.33,14.15,16.0,13.16,17.47,34.3,41.19,27.05,16.43,8.35,18.64,11.87,9.78,7.51,14.07,13.13,17.26,24.55,19.77,29.85,48.17,25.0,13.39,16.49,21.5,12.66,16.21,13.81,17.51,24.52,20.76,31.71,10.59,10.63,50.81,15.81,7.25,31.85,16.82,32.9,17.89,14.48,9.6,34.63,34.65,23.33,45.35,23.17,40.55,20.69,20.9,30.46,18.15,23.1,15.69,19.81,28.44,15.48,16.58,7.56,10.34,43.11,13.0,13.51,18.71,12.74,13.0,16.4,20.53,16.47,26.59,38.73,24.27,12.76,30.06,25.89,48.33,13.27,28.17,12.9,28.15,11.59,7.74,30.14,12.16,13.42,8.58,15.98,13.42,16.27,10.09,20.45,13.28,22.12,24.01,15.69,11.61,10.77,15.53,10.07,12.6,32.83,35.83,29.03,27.18,22.67,17.82,18.78],\"xaxis\":\"x\",\"y\":[1.01,1.66,3.5,3.31,3.61,4.71,2.0,3.12,1.96,3.23,1.71,5.0,1.57,3.0,3.02,3.92,1.67,3.71,3.5,3.35,4.08,2.75,2.23,7.58,3.18,2.34,2.0,2.0,4.3,3.0,1.45,2.5,3.0,2.45,3.27,3.6,2.0,3.07,2.31,5.0,2.24,2.54,3.06,1.32,5.6,3.0,5.0,6.0,2.05,3.0,2.5,2.6,5.2,1.56,4.34,3.51,3.0,1.5,1.76,6.73,3.21,2.0,1.98,3.76,2.64,3.15,2.47,1.0,2.01,2.09,1.97,3.0,3.14,5.0,2.2,1.25,3.08,4.0,3.0,2.71,3.0,3.4,1.83,5.0,2.03,5.17,2.0,4.0,5.85,3.0,3.0,3.5,1.0,4.3,3.25,4.73,4.0,1.5,3.0,1.5,2.5,3.0,2.5,3.48,4.08,1.64,4.06,4.29,3.76,4.0,3.0,1.0,4.0,2.55,4.0,3.5,5.07,1.5,1.8,2.92,2.31,1.68,2.5,2.0,2.52,4.2,1.48,2.0,2.0,2.18,1.5,2.83,1.5,2.0,3.25,1.25,2.0,2.0,2.0,2.75,3.5,6.7,5.0,5.0,2.3,1.5,1.36,1.63,1.73,2.0,2.5,2.0,2.74,2.0,2.0,5.14,5.0,3.75,2.61,2.0,3.5,2.5,2.0,2.0,3.0,3.48,2.24,4.5,1.61,2.0,10.0,3.16,5.15,3.18,4.0,3.11,2.0,2.0,4.0,3.55,3.68,5.65,3.5,6.5,3.0,5.0,3.5,2.0,3.5,4.0,1.5,4.19,2.56,2.02,4.0,1.44,2.0,5.0,2.0,2.0,4.0,2.01,2.0,2.5,4.0,3.23,3.41,3.0,2.03,2.23,2.0,5.16,9.0,2.5,6.5,1.1,3.0,1.5,1.44,3.09,2.2,3.48,1.92,3.0,1.58,2.5,2.0,3.0,2.72,2.88,2.0,3.0,3.39,1.47,3.0,1.25,1.0,1.17,4.67,5.92,2.0,2.0,1.75,3.0],\"yaxis\":\"y\",\"type\":\"scatter\"}],                        {\"template\":{\"data\":{\"histogram2dcontour\":[{\"type\":\"histogram2dcontour\",\"colorbar\":{\"outlinewidth\":0,\"ticks\":\"\"},\"colorscale\":[[0.0,\"#0d0887\"],[0.1111111111111111,\"#46039f\"],[0.2222222222222222,\"#7201a8\"],[0.3333333333333333,\"#9c179e\"],[0.4444444444444444,\"#bd3786\"],[0.5555555555555556,\"#d8576b\"],[0.6666666666666666,\"#ed7953\"],[0.7777777777777778,\"#fb9f3a\"],[0.8888888888888888,\"#fdca26\"],[1.0,\"#f0f921\"]]}],\"choropleth\":[{\"type\":\"choropleth\",\"colorbar\":{\"outlinewidth\":0,\"ticks\":\"\"}}],\"histogram2d\":[{\"type\":\"histogram2d\",\"colorbar\":{\"outlinewidth\":0,\"ticks\":\"\"},\"colorscale\":[[0.0,\"#0d0887\"],[0.1111111111111111,\"#46039f\"],[0.2222222222222222,\"#7201a8\"],[0.3333333333333333,\"#9c179e\"],[0.4444444444444444,\"#bd3786\"],[0.5555555555555556,\"#d8576b\"],[0.6666666666666666,\"#ed7953\"],[0.7777777777777778,\"#fb9f3a\"],[0.8888888888888888,\"#fdca26\"],[1.0,\"#f0f921\"]]}],\"heatmap\":[{\"type\":\"heatmap\",\"colorbar\":{\"outlinewidth\":0,\"ticks\":\"\"},\"colorscale\":[[0.0,\"#0d0887\"],[0.1111111111111111,\"#46039f\"],[0.2222222222222222,\"#7201a8\"],[0.3333333333333333,\"#9c179e\"],[0.4444444444444444,\"#bd3786\"],[0.5555555555555556,\"#d8576b\"],[0.6666666666666666,\"#ed7953\"],[0.7777777777777778,\"#fb9f3a\"],[0.8888888888888888,\"#fdca26\"],[1.0,\"#f0f921\"]]}],\"heatmapgl\":[{\"type\":\"heatmapgl\",\"colorbar\":{\"outlinewidth\":0,\"ticks\":\"\"},\"colorscale\":[[0.0,\"#0d0887\"],[0.1111111111111111,\"#46039f\"],[0.2222222222222222,\"#7201a8\"],[0.3333333333333333,\"#9c179e\"],[0.4444444444444444,\"#bd3786\"],[0.5555555555555556,\"#d8576b\"],[0.6666666666666666,\"#ed7953\"],[0.7777777777777778,\"#fb9f3a\"],[0.8888888888888888,\"#fdca26\"],[1.0,\"#f0f921\"]]}],\"contourcarpet\":[{\"type\":\"contourcarpet\",\"colorbar\":{\"outlinewidth\":0,\"ticks\":\"\"}}],\"contour\":[{\"type\":\"contour\",\"colorbar\":{\"outlinewidth\":0,\"ticks\":\"\"},\"colorscale\":[[0.0,\"#0d0887\"],[0.1111111111111111,\"#46039f\"],[0.2222222222222222,\"#7201a8\"],[0.3333333333333333,\"#9c179e\"],[0.4444444444444444,\"#bd3786\"],[0.5555555555555556,\"#d8576b\"],[0.6666666666666666,\"#ed7953\"],[0.7777777777777778,\"#fb9f3a\"],[0.8888888888888888,\"#fdca26\"],[1.0,\"#f0f921\"]]}],\"surface\":[{\"type\":\"surface\",\"colorbar\":{\"outlinewidth\":0,\"ticks\":\"\"},\"colorscale\":[[0.0,\"#0d0887\"],[0.1111111111111111,\"#46039f\"],[0.2222222222222222,\"#7201a8\"],[0.3333333333333333,\"#9c179e\"],[0.4444444444444444,\"#bd3786\"],[0.5555555555555556,\"#d8576b\"],[0.6666666666666666,\"#ed7953\"],[0.7777777777777778,\"#fb9f3a\"],[0.8888888888888888,\"#fdca26\"],[1.0,\"#f0f921\"]]}],\"mesh3d\":[{\"type\":\"mesh3d\",\"colorbar\":{\"outlinewidth\":0,\"ticks\":\"\"}}],\"scatter\":[{\"fillpattern\":{\"fillmode\":\"overlay\",\"size\":10,\"solidity\":0.2},\"type\":\"scatter\"}],\"parcoords\":[{\"type\":\"parcoords\",\"line\":{\"colorbar\":{\"outlinewidth\":0,\"ticks\":\"\"}}}],\"scatterpolargl\":[{\"type\":\"scatterpolargl\",\"marker\":{\"colorbar\":{\"outlinewidth\":0,\"ticks\":\"\"}}}],\"bar\":[{\"error_x\":{\"color\":\"#2a3f5f\"},\"error_y\":{\"color\":\"#2a3f5f\"},\"marker\":{\"line\":{\"color\":\"#E5ECF6\",\"width\":0.5},\"pattern\":{\"fillmode\":\"overlay\",\"size\":10,\"solidity\":0.2}},\"type\":\"bar\"}],\"scattergeo\":[{\"type\":\"scattergeo\",\"marker\":{\"colorbar\":{\"outlinewidth\":0,\"ticks\":\"\"}}}],\"scatterpolar\":[{\"type\":\"scatterpolar\",\"marker\":{\"colorbar\":{\"outlinewidth\":0,\"ticks\":\"\"}}}],\"histogram\":[{\"marker\":{\"pattern\":{\"fillmode\":\"overlay\",\"size\":10,\"solidity\":0.2}},\"type\":\"histogram\"}],\"scattergl\":[{\"type\":\"scattergl\",\"marker\":{\"colorbar\":{\"outlinewidth\":0,\"ticks\":\"\"}}}],\"scatter3d\":[{\"type\":\"scatter3d\",\"line\":{\"colorbar\":{\"outlinewidth\":0,\"ticks\":\"\"}},\"marker\":{\"colorbar\":{\"outlinewidth\":0,\"ticks\":\"\"}}}],\"scattermapbox\":[{\"type\":\"scattermapbox\",\"marker\":{\"colorbar\":{\"outlinewidth\":0,\"ticks\":\"\"}}}],\"scatterternary\":[{\"type\":\"scatterternary\",\"marker\":{\"colorbar\":{\"outlinewidth\":0,\"ticks\":\"\"}}}],\"scattercarpet\":[{\"type\":\"scattercarpet\",\"marker\":{\"colorbar\":{\"outlinewidth\":0,\"ticks\":\"\"}}}],\"carpet\":[{\"aaxis\":{\"endlinecolor\":\"#2a3f5f\",\"gridcolor\":\"white\",\"linecolor\":\"white\",\"minorgridcolor\":\"white\",\"startlinecolor\":\"#2a3f5f\"},\"baxis\":{\"endlinecolor\":\"#2a3f5f\",\"gridcolor\":\"white\",\"linecolor\":\"white\",\"minorgridcolor\":\"white\",\"startlinecolor\":\"#2a3f5f\"},\"type\":\"carpet\"}],\"table\":[{\"cells\":{\"fill\":{\"color\":\"#EBF0F8\"},\"line\":{\"color\":\"white\"}},\"header\":{\"fill\":{\"color\":\"#C8D4E3\"},\"line\":{\"color\":\"white\"}},\"type\":\"table\"}],\"barpolar\":[{\"marker\":{\"line\":{\"color\":\"#E5ECF6\",\"width\":0.5},\"pattern\":{\"fillmode\":\"overlay\",\"size\":10,\"solidity\":0.2}},\"type\":\"barpolar\"}],\"pie\":[{\"automargin\":true,\"type\":\"pie\"}]},\"layout\":{\"autotypenumbers\":\"strict\",\"colorway\":[\"#636efa\",\"#EF553B\",\"#00cc96\",\"#ab63fa\",\"#FFA15A\",\"#19d3f3\",\"#FF6692\",\"#B6E880\",\"#FF97FF\",\"#FECB52\"],\"font\":{\"color\":\"#2a3f5f\"},\"hovermode\":\"closest\",\"hoverlabel\":{\"align\":\"left\"},\"paper_bgcolor\":\"white\",\"plot_bgcolor\":\"#E5ECF6\",\"polar\":{\"bgcolor\":\"#E5ECF6\",\"angularaxis\":{\"gridcolor\":\"white\",\"linecolor\":\"white\",\"ticks\":\"\"},\"radialaxis\":{\"gridcolor\":\"white\",\"linecolor\":\"white\",\"ticks\":\"\"}},\"ternary\":{\"bgcolor\":\"#E5ECF6\",\"aaxis\":{\"gridcolor\":\"white\",\"linecolor\":\"white\",\"ticks\":\"\"},\"baxis\":{\"gridcolor\":\"white\",\"linecolor\":\"white\",\"ticks\":\"\"},\"caxis\":{\"gridcolor\":\"white\",\"linecolor\":\"white\",\"ticks\":\"\"}},\"coloraxis\":{\"colorbar\":{\"outlinewidth\":0,\"ticks\":\"\"}},\"colorscale\":{\"sequential\":[[0.0,\"#0d0887\"],[0.1111111111111111,\"#46039f\"],[0.2222222222222222,\"#7201a8\"],[0.3333333333333333,\"#9c179e\"],[0.4444444444444444,\"#bd3786\"],[0.5555555555555556,\"#d8576b\"],[0.6666666666666666,\"#ed7953\"],[0.7777777777777778,\"#fb9f3a\"],[0.8888888888888888,\"#fdca26\"],[1.0,\"#f0f921\"]],\"sequentialminus\":[[0.0,\"#0d0887\"],[0.1111111111111111,\"#46039f\"],[0.2222222222222222,\"#7201a8\"],[0.3333333333333333,\"#9c179e\"],[0.4444444444444444,\"#bd3786\"],[0.5555555555555556,\"#d8576b\"],[0.6666666666666666,\"#ed7953\"],[0.7777777777777778,\"#fb9f3a\"],[0.8888888888888888,\"#fdca26\"],[1.0,\"#f0f921\"]],\"diverging\":[[0,\"#8e0152\"],[0.1,\"#c51b7d\"],[0.2,\"#de77ae\"],[0.3,\"#f1b6da\"],[0.4,\"#fde0ef\"],[0.5,\"#f7f7f7\"],[0.6,\"#e6f5d0\"],[0.7,\"#b8e186\"],[0.8,\"#7fbc41\"],[0.9,\"#4d9221\"],[1,\"#276419\"]]},\"xaxis\":{\"gridcolor\":\"white\",\"linecolor\":\"white\",\"ticks\":\"\",\"title\":{\"standoff\":15},\"zerolinecolor\":\"white\",\"automargin\":true,\"zerolinewidth\":2},\"yaxis\":{\"gridcolor\":\"white\",\"linecolor\":\"white\",\"ticks\":\"\",\"title\":{\"standoff\":15},\"zerolinecolor\":\"white\",\"automargin\":true,\"zerolinewidth\":2},\"scene\":{\"xaxis\":{\"backgroundcolor\":\"#E5ECF6\",\"gridcolor\":\"white\",\"linecolor\":\"white\",\"showbackground\":true,\"ticks\":\"\",\"zerolinecolor\":\"white\",\"gridwidth\":2},\"yaxis\":{\"backgroundcolor\":\"#E5ECF6\",\"gridcolor\":\"white\",\"linecolor\":\"white\",\"showbackground\":true,\"ticks\":\"\",\"zerolinecolor\":\"white\",\"gridwidth\":2},\"zaxis\":{\"backgroundcolor\":\"#E5ECF6\",\"gridcolor\":\"white\",\"linecolor\":\"white\",\"showbackground\":true,\"ticks\":\"\",\"zerolinecolor\":\"white\",\"gridwidth\":2}},\"shapedefaults\":{\"line\":{\"color\":\"#2a3f5f\"}},\"annotationdefaults\":{\"arrowcolor\":\"#2a3f5f\",\"arrowhead\":0,\"arrowwidth\":1},\"geo\":{\"bgcolor\":\"white\",\"landcolor\":\"#E5ECF6\",\"subunitcolor\":\"white\",\"showland\":true,\"showlakes\":true,\"lakecolor\":\"white\"},\"title\":{\"x\":0.05},\"mapbox\":{\"style\":\"light\"}}},\"xaxis\":{\"anchor\":\"y\",\"domain\":[0.0,1.0],\"title\":{\"text\":\"total_bill\"}},\"yaxis\":{\"anchor\":\"x\",\"domain\":[0.0,1.0],\"title\":{\"text\":\"tip\"}},\"legend\":{\"tracegroupgap\":0},\"margin\":{\"t\":60}},                        {\"responsive\": true}                    ).then(function(){\n",
              "                            \n",
              "var gd = document.getElementById('155d0ebd-8759-4eae-b514-3c63f6e9c2fd');\n",
              "var x = new MutationObserver(function (mutations, observer) {{\n",
              "        var display = window.getComputedStyle(gd).display;\n",
              "        if (!display || display === 'none') {{\n",
              "            console.log([gd, 'removed!']);\n",
              "            Plotly.purge(gd);\n",
              "            observer.disconnect();\n",
              "        }}\n",
              "}});\n",
              "\n",
              "// Listen for the removal of the full notebook cells\n",
              "var notebookContainer = gd.closest('#notebook-container');\n",
              "if (notebookContainer) {{\n",
              "    x.observe(notebookContainer, {childList: true});\n",
              "}}\n",
              "\n",
              "// Listen for the clearing of the current output cell\n",
              "var outputEl = gd.closest('.output');\n",
              "if (outputEl) {{\n",
              "    x.observe(outputEl, {childList: true});\n",
              "}}\n",
              "\n",
              "                        })                };                            </script>        </div>\n",
              "</body>\n",
              "</html>"
            ]
          },
          "metadata": {}
        }
      ]
    },
    {
      "cell_type": "markdown",
      "source": [
        "**5. Анализ и интерпретация результатов**\n",
        "\n",
        "**5.1 Библиотека Matplotlib**\n",
        "\n",
        "Библиотека позволяет создавать разные виды графиков и диаграмм благодаря низкоуровневому интерфейсу.\n",
        "\n",
        "Она поддерживает множество типов графиков, включая линейные графики, гистограммы, 3D-графики, контурные графики и круговые диаграммы.\n",
        "\n",
        "Все элементы графиков можно настроить: оси, легенды, цвета, линии, маркеры и шрифты. Также можно создавать анимации и динамические визуализации.\n",
        "\n",
        "Графики можно сохранять в разных форматах: PNG, PDF, SVG и других.\n",
        "\n",
        "Новичку может быть сложно разобраться из-за низкоуровневого интерфейса и большого количества настроек. Кроме того, графики по умолчанию могут выглядеть непривлекательно, поэтому придётся поработать над дизайном.\n",
        "\n",
        "Если вам требуются высококачественные статические графики для научных публикаций, отчётов или презентаций, то этот инструмент будет полезен.\n",
        "\n",
        "Он позволяет настроить каждый аспект графики: цвета, шрифты, размеры осей, линии и маркеры. Это даёт возможность создать профессиональный и информативный график.\n",
        "\n",
        "Инструмент эффективен при обработке больших наборов данных и визуализации без значительных затрат на производительность. Он позволяет создавать сложные графики, такие как многоуровневые диаграммы, графики с несколькими осями или графики с дополнительными пояснениями.\n",
        "\n",
        "Если вы работаете с библиотеками для анализа данных, такими как NumPy и Pandas, этот инструмент станет полезным дополнением к вашим рабочим процессам.\n",
        "\n",
        "\n",
        "**5.2 Библиотека Seaborn**\n",
        "\n",
        "Seaborn облегчает и ускоряет создание графиков, так как основан на Matplotlib. Он хорошо подходит для создания статистических графиков, таких как коробчатые диаграммы и тепловые карты.\n",
        "\n",
        "У Seaborn есть готовые стили, которые помогают сделать графики привлекательнее без дополнительных усилий. Библиотека легко работает с данными из Pandas, что упрощает анализ.\n",
        "\n",
        "Графики сочетают информацию о распределении данных и их плотности, благодаря чему можно лучше понять распределение.\n",
        "\n",
        "Однако у Seaborn меньше настроек, чем у Matplotlib, поэтому он может не подойти для сложных визуализаций. Поскольку Seaborn основан на Matplotlib, пользователи могут столкнуться с ограничениями, если попытаются использовать функции Matplotlib, которых нет в Seaborn.\n",
        "\n",
        "Библиотека предоставляет удобные функции для создания различных статистических графиков, включая распределения, корреляционные матрицы и категориальные графики. Он автоматически рассчитывает статистические параметры и предлагает красивые стили оформления по умолчанию.\n",
        "\n",
        "Инструмент хорошо интегрируется с Pandas DataFrame, что упрощает визуализацию данных. Pandas эффективно обрабатывает большие объёмы информации и позволяет легко манипулировать ими.\n",
        "\n",
        "Он предлагает множество встроенных тем и цветовых схем, которые упрощают настройку графиков и делают их более привлекательными без необходимости вручную настраивать каждый элемент.\n",
        "\n",
        "Также инструмент предоставляет мощные инструменты для сравнения групп, с помощью котрых можно разбивать данные на подгруппы и визуализировать их в одном графике.\n",
        "\n",
        "Простой и интуитивно понятный синтаксис делает этот инструмент доступным для пользователей, которые только начинают работать с визуализацией данных.\n",
        "\n",
        "**5.3 Библиотека Plotly**\n",
        "\n",
        "Plotly позволяет создавать интерактивные графики, которые можно масштабировать, перемещать и наводить на них курсор для получения дополнительной информации. Есть большой набор графиков: 3D-графики, карты, графики с областями, пузырьковые графики и специализированные визуализации. Графики можно сохранять и делиться ими через облачные сервисы, например, Plotly Chart Studio. Легко встраивать графики в веб-приложения и создавать дашборды. Однако для интерактивных графиков требуется больше ресурсов, что может быть проблемой при работе с большими наборами данных. Чтобы создать более сложные визуализации, нужно больше времени на изучение и настройку. Некоторые функции доступны только по платной подписке на Plotly.\n",
        "\n",
        "Библиотека предлагает мощные функции для создания интерактивных графиков. Она позволяет пользователям взаимодействовать с визуализацией, увеличивать масштаб, получать дополнительную информацию при наведении курсора и переключаться между разными способами представления данных.\n",
        "\n",
        "Инструмент эффективно работает с большими объёмами данных и позволяет визуализировать их без потери производительности. Это особенно полезно при анализе больших массивов информации, например, временных рядов или многомерных наборов данных.\n",
        "\n",
        "Он поддерживает множество типов графиков, включая 3D-графики, графики с несколькими осями и комбинированные графики. Это даёт возможность создавать сложные визуализации для глубокого анализа данных.\n",
        "\n",
        "Кроме того, этот инструмент хорошо интегрируется с веб-приложениями и позволяет легко встраивать графики в HTML-страницы. Поэтому он отлично подходит для веб-визуализации и создания интерактивных дашбордов.\n"
      ],
      "metadata": {
        "id": "HRSvxlxHEjnJ"
      }
    },
    {
      "cell_type": "markdown",
      "source": [
        "**5.4 Сравнительная таблица характеристик библиотек Matplotlib, Seaborn, Plotly**\n",
        "\n",
        "Таблица приведенная ниже представляет собой сравнительный анализ трех популярных библиотек для визуализации данных: Matplotlib, Seaborn и Plotly. Каждая библиотека обладает уникальными характеристиками, которые делают ее подходящей для различных задач и пользователей. В таблице представлены следующие аспекты:\n",
        "\n",
        "1. **Тип графиков**: Указывает, какие виды графиков можно создавать с помощью каждой библиотеки. Это помогает пользователям понять, какие визуализации доступны и какие из них соответствуют их потребностям.\n",
        "\n",
        "2. **Легкость использования**: Оценка того, насколько легко новичкам начать работать с каждой библиотекой. Это важно для пользователей, которые только начинают изучать визуализацию данных.\n",
        "\n",
        "3. **Эстетика**: Оценка визуального качества графиков по умолчанию и возможность их настройки. Это может быть критичным для пользователей, которым важен внешний вид представленных данных.\n",
        "\n",
        "4. **Кастомизация**: Указывает на уровень гибкости в настройке графиков. Это важно для пользователей, которые хотят детально настроить визуализации под свои требования.\n",
        "\n",
        "5. **Интерактивность**: Оценка уровня взаимодействия, который пользователи могут ожидать от графиков. Интерактивные графики позволяют пользователям исследовать данные более активно.\n",
        "\n",
        "6. **Поддержка 3D**: Указывает, поддерживает ли библиотека создание трехмерных графиков, что может быть полезно в определенных приложениях.\n",
        "\n",
        "7. **Работа с данными**: Оценка интеграции с библиотеками для работы с данными, такими как NumPy и Pandas. Это важно для пользователей, которые часто используют эти библиотеки для анализа данных.\n",
        "\n",
        "8. **Анимация**: Указывает, поддерживает ли библиотека создание анимаций, что может добавить дополнительный уровень визуализации.\n",
        "\n",
        "9. **Экспорт**: Оценка возможностей экспорта графиков в различные форматы, что важно для пользователей, которые хотят делиться своими визуализациями.\n",
        "\n",
        "10. **Области применения**: Описание типичных случаев использования каждой библиотеки. Это помогает пользователям понять, для каких задач каждая библиотека лучше всего подходит.\n",
        "\n",
        "11. **Преимущества и недостатки**: Краткий обзор сильных и слабых сторон каждой библиотеки, что позволяет пользователям быстро оценить, какая библиотека может лучше соответствовать их потребностям.\n",
        "\n",
        "12. **Сообщество и документация**: Информация о наличии поддержки и документации, что важно для пользователей, которые могут столкнуться с трудностями при использовании библиотеки.\n",
        "\n",
        "13. **Поддержка различных языков**: Указывает, на каких языках программирования можно использовать каждую библиотеку, что может быть полезно для разработчиков, работающих с различными языками.\n",
        "\n",
        "14. **Типы данных**: Описание того, с какими типами данных каждая библиотека может работать, что важно для пользователей, которые имеют дело с конкретными форматами данных.\n",
        "\n",
        "Таблица может быть полезна для разработчиков, которые хотят выбрать подходящую библиотеку для визуализации данных в зависимости от своих требований и уровня опыта.\n",
        "\n",
        "| Характеристика         | Matplotlib                                      | Seaborn                                         | Plotly                                         |\n",
        "|------------------------|------------------------------------------------|------------------------------------------------|------------------------------------------------|\n",
        "| **Тип графиков**       | Линейные, столбчатые, круговые, точечные, 3D графики, тепловые карты, контурные графики | Столбчатые, линейные, распределения, парные графики, тепловые карты, графики с полями ошибок | Линейные, столбчатые, круговые, точечные, 3D графики, карты, графики с полями ошибок |\n",
        "| **Легкость использования** | Средняя (может быть сложной для новичков)   | Высокая (интуитивно понятный интерфейс)       | Высокая (простота для создания интерактивных графиков) |\n",
        "| **Эстетика**           | Низкая по умолчанию, требует настройки         | Высокая (предустановленные стили и палитры)   | Высокая (интерактивные и визуально привлекательные) |\n",
        "| **Кастомизация**       | Высокая (гибкость в настройках)                | Средняя (ограничена по сравнению с Matplotlib) | Средняя (достаточно для большинства задач)     |\n",
        "| **Интерактивность**    | Ограниченная (в основном статические графики) | Ограниченная (статические графики)             | Высокая (возможность взаимодействия с графиками) |\n",
        "| **Поддержка 3D**       | Да (но требует дополнительных усилий)          | Нет                                            | Да                                             |\n",
        "| **Работа с данными**   | Хорошая интеграция с NumPy и Pandas            | Отличная интеграция с Pandas                   | Хорошая интеграция с Pandas и другими источниками |\n",
        "| **Анимация**           | Да                                             | Нет                                            | Да                                             |\n",
        "| **Экспорт**            | Поддержка различных форматов (PNG, PDF, SVG)  | Поддержка форматов через Matplotlib            | Поддержка экспорта в HTML и облачные сервисы   |\n",
        "| **Области применения**  | Научные исследования, инженерия, отчеты       | Научные исследования, анализ данных            | Бизнес-аналитика, веб-разработка, интерактивные отчеты |\n",
        "| **Преимущества**       | Гибкость, мощные инструменты для визуализации  | Упрощение создания красивых статистических графиков | Интерактивность, возможность работы с большими данными |\n",
        "| **Недостатки**         | Сложность для новичков, требует настройки      | Ограниченные возможности кастомизации          | Требует больше ресурсов, некоторые функции платные |\n",
        "| **Сообщество и документация** | Широкое сообщество, обширная документация  | Активное сообщество, хорошая документация     | Растущее сообщество, обширная документация и примеры |\n",
        "| **Поддержка различных языков** | Преимущественно Python                       | Преимущественно Python                          | Поддержка Python, R, JavaScript и других языков |\n",
        "| **Типы данных**        | Подходит для различных типов данных             | Ориентирован на статистические данные          | Подходит для больших объемов данных и потоковых данных |\n",
        "\n"
      ],
      "metadata": {
        "id": "Id7riqFG9yQz"
      }
    },
    {
      "cell_type": "markdown",
      "source": [
        "**6. Заключение**\n",
        "\n",
        "**6.1 Обзор выполненной работы**\n",
        "\n",
        "В ходе изучения библиотек для визуализации данных Matplotlib, Seaborn и Plotly были были изучены и проанализированы:\n",
        "\n",
        "Основы Matplotlib: изучены основные функции и возможности библиотеки Matplotlib. Понимание принципов работы с графиками и диаграммами.\n",
        "\n",
        "Типы графиков Matplotlib: освоены различные типы графиков, такие как линейные графики, столбчатые диаграммы и т. д. что дает возможность выбирать наиболее подходящий тип графика для конкретной задачи визуализации.\n",
        "\n",
        "\n",
        "Работа с данными Matplotlib: на практике применены знания Matplotlib для анализа и визуализации реальных данных. Это помогло понять, как использовать библиотеку для решения конкретных задач.\n",
        "\n",
        "Введение в Seaborn: получено представление о библиотеке Seaborn и её основных функциях. Это открыло путь к использованию дополнительных возможностей для визуализации данных.\n",
        "\n",
        "Статистические графики Seaborn: изучены статистические графики, что расширило набор инструментов для анализа данных и их представления.\n",
        "\n",
        "\n",
        "Линейные графики Seaborn: созданы линейные графики с использованием Seaborn, что обогатило арсенал методов визуализации временных рядов и других последовательностей данных.\n",
        "\n",
        "Установка и настройка Plotly: библиотека Plotly установлена и настроена, что открыло доступ к созданию интерактивных графиков.\n",
        "\n",
        "Интерактивные графики Plotly: созданы интерактивные графики, которые можно изменять и настраивать. Это повысило вовлечённость пользователей и улучшило понимание данных.\n",
        "\n",
        "3D-графики Plotly: начата работа с 3D-графиками для создания сложных визуализаций. Это открывает новые горизонты для представления многомерных данных.\n",
        "\n",
        "Изучение библиотек для визуализации данных позволяет сделать вывод, что выбор зависит от ваших целей и задач. Каждая из них имеет свои особенности, преимущества и недостатки.\n",
        "\n",
        "Если вам нужен детальный контроль над процессом визуализации и гибкость в настройке графиков, то библиотека Matplotlib будет хорошим выбором. Она предоставляет множество инструментов для создания различных типов графиков и диаграмм, а также позволяет настраивать их внешний вид по своему усмотрению. Однако, если вам нужно быстро создать красивые статистические графики без лишних усилий, то лучше выбрать библиотеку Seaborn. Она основана на Matplotlib, но предоставляет более простой и удобный интерфейс для создания статистических графиков.\n",
        "\n",
        "Для работы с интерактивными графиками и визуализации данных в реальном времени лучше всего подойдёт библиотека Plotly. Она позволяет создавать интерактивные графики, которые можно изменять и обновлять в режиме реального времени. Это особенно полезно для анализа больших объёмов данных и для создания дашбордов.\n",
        "\n",
        "Таким образом, выбор библиотеки зависит от конкретных требований к визуализации данных. Если вам нужна гибкость и контроль над процессом, то Matplotlib — это хороший выбор. Если вы хотите быстро создавать красивые статистические графики, то Seaborn будет лучшим решением. А если вам нужны интерактивные графики для работы с данными в реальном времени, то Plotly — ваш выбор."
      ],
      "metadata": {
        "id": "ttx8wmVRFHZ8"
      }
    },
    {
      "cell_type": "markdown",
      "source": [
        "**6.2 Дальнейшие планы на изучение возможностей библиотек Matplotlib, Seaborn и Plotly**\n",
        "\n",
        "После изучения основ работы с библиотеками Matplotlib, Seaborn и Plotly планируется перейти к более сложным темам.\n",
        "\n",
        "**1. Продвинутые возможности Matplotlib.**\n",
        "* **Дополнительные типы графиков.** Изучение более сложных типов графиков, таких как 3D-графики, контурные графики, графики плотности и т. д.\n",
        "* **Работа с большими объёмами данных.** Освоение методов визуализации больших объёмов данных с использованием Matplotlib.\n",
        "* **Создание интерактивных графиков.** Добавление интерактивности в графики для улучшения взаимодействия с пользователем.\n",
        "\n",
        "**2. Расширенные функции Seaborn.**\n",
        "* **Кластеризация и классификация.** Использование функций Seaborn для кластеризации и классификации данных.\n",
        "* **Анализ временных рядов.** Визуализация временных рядов с помощью Seaborn.\n",
        "* **Сравнение распределений.** Сравнение распределений двух или более наборов данных с помощью графиков.\n",
        "\n",
        "**3. Функционал Plotly.**\n",
        "* **Добавление аннотаций и меток.** Более глубокое изучение аннотаций и меток на графиках для пояснения информации.\n",
        "* **Управление легендой.** Настройка легенды для отображения только необходимой информации.\n",
        "* **Экспорт графиков.** Экспорт графиков в различные форматы, такие как SVG, PNG, PDF и т. п.\n",
        "\n",
        "**4. Кастомизация и эстетика графиков.**\n",
        "* **Использование тем оформления.** Применение тем оформления для создания единообразного стиля графиков.\n",
        "* **Адаптация графиков под разные устройства.** Обеспечение корректного отображения графиков на разных устройствах.\n",
        "* **Применение принципов дизайна.** Соблюдение принципов дизайна при создании графиков для улучшения восприятия информации.\n",
        "\n",
        "После освоения этих тем возможно приступить к созданию собственных проектов с использованием Matplotlib, Seaborn и Plotly. Это могут быть проекты по анализу данных, созданию инфографики, разработке веб-приложений с визуализацией данных и т.п.\n",
        "\n",
        "Также планируется изучить дополнительные возможности библиотек, такие как интеграция с другими библиотеками, работа с большими данными, создание интерактивных дашбордов.\n"
      ],
      "metadata": {
        "id": "izb5qzhF__2o"
      }
    }
  ]
}